{
  "nbformat": 4,
  "nbformat_minor": 0,
  "metadata": {
    "colab": {
      "name": "CubsDecadeAnalysis.ipynb",
      "provenance": [],
      "collapsed_sections": [
        "lQLGjufCm1aZ",
        "UIQVAf-0bG61",
        "sKCSXDIPccL8",
        "PkSOaEsOYzyw",
        "jnlXMy-voigA",
        "7O5a6R0viCeZ",
        "RVAShXjnpHVq"
      ],
      "authorship_tag": "ABX9TyMB2J90CjVzqKLIHtZuUPmF",
      "include_colab_link": true
    },
    "kernelspec": {
      "name": "python3",
      "display_name": "Python 3"
    }
  },
  "cells": [
    {
      "cell_type": "markdown",
      "metadata": {
        "id": "view-in-github",
        "colab_type": "text"
      },
      "source": [
        "<a href=\"https://colab.research.google.com/github/dtb00789/CubsDecadeAnalysis/blob/main/CubsDecadeAnalysis.ipynb\" target=\"_parent\"><img src=\"https://colab.research.google.com/assets/colab-badge.svg\" alt=\"Open In Colab\"/></a>"
      ]
    },
    {
      "cell_type": "markdown",
      "metadata": {
        "id": "M6R0HrBjh3aT"
      },
      "source": [
        "#The Rise and Fall of the 2010's Chicago Cubs#\n",
        "\n",
        "At the start of the 2010's, the Chicago Cubs began a journey to break the longest championship drought in sports history. The team had one of the most successful rebuilding campaigns in baseball, finally managing to win the 2016 World Series. What's more, that championship was supposed to be the first of many in what many pundits labeled as a new dynasty in baseball. They were talented, young, experienced and still had players in their development system ready to join the main club. Now, at the end of the decade, it is clear that the dynasty in the making had flaws. The goal of this project is to analyze both the meteoric rise and slow decent of the Chicago Cubs in the 2010's, and determine how they managed to find success in the short term, but failed to capitalize on that same success in the long term.\n",
        "\n",
        "This project will break down the key factors that make up a baseball team, the offense and the pitching/defense. The goal is to see how the Cubs matched up in these metrics with other teams in the league during each season of the decade, with a particular focus on their 2016 season, when they won the World Series. Then, after finding what brought the club success that season, a focus on later years will look to determine why they weren't able to sustain that level of success."
      ]
    },
    {
      "cell_type": "markdown",
      "metadata": {
        "id": "lQLGjufCm1aZ"
      },
      "source": [
        "##MLB Team Data Upload##\n",
        "\n",
        "The first step is to upload data from FanGraphs and Teamrankings for offensive and pitching/defensive stats for all teams during the decade as well as team records. These statistics are advanced metrics that can be difficult to understand at first, particularly if you don't know baseball, so there will be a section devoted to exploring the important statistics and explaining what they describe."
      ]
    },
    {
      "cell_type": "markdown",
      "metadata": {
        "id": "krshECv7apUn"
      },
      "source": [
        "### Offensive Statistics Upload ###\n",
        "\n",
        "The following shows the process for preparing the offensive statistics for the 2010's seasons into a single DataFrame."
      ]
    },
    {
      "cell_type": "code",
      "metadata": {
        "id": "rttAqvuDaK6s"
      },
      "source": [
        "import pandas as pd\n",
        "import numpy as np\n",
        "import seaborn as sns"
      ],
      "execution_count": null,
      "outputs": []
    },
    {
      "cell_type": "code",
      "metadata": {
        "id": "9DqmzcSEaRFI"
      },
      "source": [
        "# The batting stats for the 2010's by team\n",
        "bat19 = 'https://www.fangraphs.com/leaders.aspx?pos=all&stats=bat&lg=all&qual=0&type=1&season=2019&month=0&season1=2019&ind=0&team=0,ts&rost=0&age=0&filter=&players=0&startdate=2019-01-01&enddate=2019-12-31'\n",
        "bat18 = 'https://www.fangraphs.com/leaders.aspx?pos=all&stats=bat&lg=all&qual=0&type=1&season=2018&month=0&season1=2018&ind=0&team=0,ts&rost=0&age=0&filter=&players=0&startdate=2018-01-01&enddate=2018-12-31'\n",
        "bat17 = 'https://www.fangraphs.com/leaders.aspx?pos=all&stats=bat&lg=all&qual=0&type=1&season=2017&month=0&season1=2017&ind=0&team=0,ts&rost=0&age=0&filter=&players=0&startdate=2017-01-01&enddate=2017-12-31'\n",
        "bat16 = 'https://www.fangraphs.com/leaders.aspx?pos=all&stats=bat&lg=all&qual=0&type=1&season=2016&month=0&season1=2016&ind=0&team=0,ts&rost=0&age=0&filter=&players=0&startdate=2016-01-01&enddate=2016-12-31'\n",
        "bat15 = 'https://www.fangraphs.com/leaders.aspx?pos=all&stats=bat&lg=all&qual=0&type=1&season=2015&month=0&season1=2015&ind=0&team=0,ts&rost=0&age=0&filter=&players=0&startdate=2015-01-01&enddate=2015-12-31'\n",
        "bat14 = 'https://www.fangraphs.com/leaders.aspx?pos=all&stats=bat&lg=all&qual=0&type=1&season=2014&month=0&season1=2014&ind=0&team=0,ts&rost=0&age=0&filter=&players=0&startdate=2014-01-01&enddate=2014-12-31'\n",
        "bat13 = 'https://www.fangraphs.com/leaders.aspx?pos=all&stats=bat&lg=all&qual=0&type=1&season=2013&month=0&season1=2013&ind=0&team=0,ts&rost=0&age=0&filter=&players=0&startdate=2013-01-01&enddate=2013-12-31'\n",
        "bat12 = 'https://www.fangraphs.com/leaders.aspx?pos=all&stats=bat&lg=all&qual=0&type=1&season=2012&month=0&season1=2012&ind=0&team=0,ts&rost=0&age=0&filter=&players=0&startdate=2012-01-01&enddate=2012-12-31'\n",
        "bat11 = 'https://www.fangraphs.com/leaders.aspx?pos=all&stats=bat&lg=all&qual=0&type=1&season=2011&month=0&season1=2011&ind=0&team=0,ts&rost=0&age=0&filter=&players=0&startdate=2011-01-01&enddate=2011-12-31'\n",
        "bat10 = 'https://www.fangraphs.com/leaders.aspx?pos=all&stats=bat&lg=all&qual=0&type=1&season=2010&month=0&season1=2010&ind=0&team=0,ts&rost=0&age=0&filter=&players=0&startdate=2010-01-01&enddate=2010-12-31'\n",
        "\n",
        "# Reading the stats into pandas\n",
        "bat19 = pd.read_html(bat19)\n",
        "bat18 = pd.read_html(bat18)\n",
        "bat17 = pd.read_html(bat17)\n",
        "bat16 = pd.read_html(bat16)\n",
        "bat15 = pd.read_html(bat15)\n",
        "bat14 = pd.read_html(bat14)\n",
        "bat13 = pd.read_html(bat13)\n",
        "bat12 = pd.read_html(bat12)\n",
        "bat11 = pd.read_html(bat11)\n",
        "bat10 = pd.read_html(bat10)\n",
        "\n",
        "# Converting to DataFrames\n",
        "bat19df = bat19[16]\n",
        "bat18df = bat18[16]\n",
        "bat17df = bat17[16]\n",
        "bat16df = bat16[16]\n",
        "bat15df = bat15[16]\n",
        "bat14df = bat14[16]\n",
        "bat13df = bat13[16]\n",
        "bat12df = bat12[16]\n",
        "bat11df = bat11[16]\n",
        "bat10df = bat10[16]\n",
        "\n",
        "# Creating a list of DataFrames for offensive metrics\n",
        "o_list = [bat10df, bat11df, bat12df, bat13df, bat14df, bat15df, bat16df, bat17df,\n",
        "          bat18df, bat19df]\n"
      ],
      "execution_count": null,
      "outputs": []
    },
    {
      "cell_type": "code",
      "metadata": {
        "id": "fHKwq1sWrIYf"
      },
      "source": [
        "# Cleaning the DataFrames and marking their respective seasons\n",
        "o_data = []\n",
        "for i, df in enumerate(o_list):\n",
        "  new_df = df.set_axis(['#','Team',\t'PA',\t'BB%',\t'K%',\t'BB/K',\t'AVG',\t'OBP',\t'SLG',\n",
        "                  'OPS',\t'ISO',\t'Spd',\t'BABIP',\t'UBR',\t'wGDP',\t'wSB',\n",
        "                  'wRC',\t'wRAA',\t'wOBA',\t'wRC+'], axis = 'columns')\n",
        "  new_df = new_df.drop([30], axis=0)\n",
        "  new_df['Season'] = 2010 + i\n",
        "  o_data.append(new_df)"
      ],
      "execution_count": null,
      "outputs": []
    },
    {
      "cell_type": "code",
      "metadata": {
        "id": "AIYerWDcQpK0"
      },
      "source": [
        "# Fixing FLA to MIA problem\n",
        "mask10 = o_data[0]['Team'] == 'FLA'\n",
        "mask11 = o_data[1]['Team'] == 'FLA'\n",
        "\n",
        "o_data[0].loc[mask10, 'Team'] = 'MIA'\n",
        "o_data[1].loc[mask11, 'Team'] = 'MIA'"
      ],
      "execution_count": null,
      "outputs": []
    },
    {
      "cell_type": "code",
      "metadata": {
        "id": "5cZ4iTcrcHik"
      },
      "source": [
        "# Setting indeces as Season and Team\n",
        "oData = []\n",
        "for df in o_data:\n",
        "  new_df = df.set_index(['Team', 'Season'])\n",
        "  oData.append(new_df)"
      ],
      "execution_count": null,
      "outputs": []
    },
    {
      "cell_type": "code",
      "metadata": {
        "id": "eXvanrWFs6Xc"
      },
      "source": [
        "# Concatenating all offensive season statistics into one DataFrame\n",
        "o_merge = oData[0]\n",
        "for j in range(len(oData) - 1):\n",
        "  o_merge = pd.concat([o_merge, oData[j + 1]], axis = 0)"
      ],
      "execution_count": null,
      "outputs": []
    },
    {
      "cell_type": "code",
      "metadata": {
        "colab": {
          "base_uri": "https://localhost:8080/"
        },
        "id": "QLvUZIJ_UcZ4",
        "outputId": "dca4c3f8-82fc-460e-f45b-021ab7900bfe"
      },
      "source": [
        "r, c = o_merge.shape\n",
        "print(\"Out of 300 seasons, there are {} missing for offensive stats\".format(300 - r))"
      ],
      "execution_count": null,
      "outputs": [
        {
          "output_type": "stream",
          "text": [
            "Out of 300 seasons, there are 0 missing for offensive stats\n"
          ],
          "name": "stdout"
        }
      ]
    },
    {
      "cell_type": "code",
      "metadata": {
        "colab": {
          "base_uri": "https://localhost:8080/"
        },
        "id": "UqeXG2ekaQjQ",
        "outputId": "52a2c52e-72fa-4eeb-8d7f-7035a2686ddf"
      },
      "source": [
        "o_merge.isnull().any()"
      ],
      "execution_count": null,
      "outputs": [
        {
          "output_type": "execute_result",
          "data": {
            "text/plain": [
              "#        False\n",
              "PA       False\n",
              "BB%      False\n",
              "K%       False\n",
              "BB/K     False\n",
              "AVG      False\n",
              "OBP      False\n",
              "SLG      False\n",
              "OPS      False\n",
              "ISO      False\n",
              "Spd      False\n",
              "BABIP    False\n",
              "UBR      False\n",
              "wGDP     False\n",
              "wSB      False\n",
              "wRC      False\n",
              "wRAA     False\n",
              "wOBA     False\n",
              "wRC+     False\n",
              "dtype: bool"
            ]
          },
          "metadata": {
            "tags": []
          },
          "execution_count": 65
        }
      ]
    },
    {
      "cell_type": "code",
      "metadata": {
        "colab": {
          "base_uri": "https://localhost:8080/",
          "height": 225
        },
        "id": "lpjhp0O2V3ak",
        "outputId": "53b82bc3-cefb-4d1d-b10b-284d89357320"
      },
      "source": [
        "o_merge.head()"
      ],
      "execution_count": null,
      "outputs": [
        {
          "output_type": "execute_result",
          "data": {
            "text/html": [
              "<div>\n",
              "<style scoped>\n",
              "    .dataframe tbody tr th:only-of-type {\n",
              "        vertical-align: middle;\n",
              "    }\n",
              "\n",
              "    .dataframe tbody tr th {\n",
              "        vertical-align: top;\n",
              "    }\n",
              "\n",
              "    .dataframe thead th {\n",
              "        text-align: right;\n",
              "    }\n",
              "</style>\n",
              "<table border=\"1\" class=\"dataframe\">\n",
              "  <thead>\n",
              "    <tr style=\"text-align: right;\">\n",
              "      <th></th>\n",
              "      <th></th>\n",
              "      <th>#</th>\n",
              "      <th>PA</th>\n",
              "      <th>BB%</th>\n",
              "      <th>K%</th>\n",
              "      <th>BB/K</th>\n",
              "      <th>AVG</th>\n",
              "      <th>OBP</th>\n",
              "      <th>SLG</th>\n",
              "      <th>OPS</th>\n",
              "      <th>ISO</th>\n",
              "      <th>Spd</th>\n",
              "      <th>BABIP</th>\n",
              "      <th>UBR</th>\n",
              "      <th>wGDP</th>\n",
              "      <th>wSB</th>\n",
              "      <th>wRC</th>\n",
              "      <th>wRAA</th>\n",
              "      <th>wOBA</th>\n",
              "      <th>wRC+</th>\n",
              "    </tr>\n",
              "    <tr>\n",
              "      <th>Team</th>\n",
              "      <th>Season</th>\n",
              "      <th></th>\n",
              "      <th></th>\n",
              "      <th></th>\n",
              "      <th></th>\n",
              "      <th></th>\n",
              "      <th></th>\n",
              "      <th></th>\n",
              "      <th></th>\n",
              "      <th></th>\n",
              "      <th></th>\n",
              "      <th></th>\n",
              "      <th></th>\n",
              "      <th></th>\n",
              "      <th></th>\n",
              "      <th></th>\n",
              "      <th></th>\n",
              "      <th></th>\n",
              "      <th></th>\n",
              "      <th></th>\n",
              "    </tr>\n",
              "  </thead>\n",
              "  <tbody>\n",
              "    <tr>\n",
              "      <th>NYY</th>\n",
              "      <th>2010</th>\n",
              "      <td>1</td>\n",
              "      <td>6379</td>\n",
              "      <td>10.4%</td>\n",
              "      <td>17.8%</td>\n",
              "      <td>0.58</td>\n",
              "      <td>.267</td>\n",
              "      <td>.350</td>\n",
              "      <td>.436</td>\n",
              "      <td>.786</td>\n",
              "      <td>.169</td>\n",
              "      <td>4.8</td>\n",
              "      <td>.300</td>\n",
              "      <td>3.4</td>\n",
              "      <td>5.3</td>\n",
              "      <td>3.4</td>\n",
              "      <td>860</td>\n",
              "      <td>127.4</td>\n",
              "      <td>.346</td>\n",
              "      <td>112</td>\n",
              "    </tr>\n",
              "    <tr>\n",
              "      <th>BOS</th>\n",
              "      <th>2010</th>\n",
              "      <td>2</td>\n",
              "      <td>6356</td>\n",
              "      <td>9.2%</td>\n",
              "      <td>17.9%</td>\n",
              "      <td>0.51</td>\n",
              "      <td>.268</td>\n",
              "      <td>.339</td>\n",
              "      <td>.451</td>\n",
              "      <td>.790</td>\n",
              "      <td>.183</td>\n",
              "      <td>4.1</td>\n",
              "      <td>.299</td>\n",
              "      <td>-11.0</td>\n",
              "      <td>1.7</td>\n",
              "      <td>2.1</td>\n",
              "      <td>851</td>\n",
              "      <td>121.3</td>\n",
              "      <td>.345</td>\n",
              "      <td>109</td>\n",
              "    </tr>\n",
              "    <tr>\n",
              "      <th>CIN</th>\n",
              "      <th>2010</th>\n",
              "      <td>3</td>\n",
              "      <td>6285</td>\n",
              "      <td>8.3%</td>\n",
              "      <td>19.4%</td>\n",
              "      <td>0.43</td>\n",
              "      <td>.272</td>\n",
              "      <td>.338</td>\n",
              "      <td>.436</td>\n",
              "      <td>.774</td>\n",
              "      <td>.164</td>\n",
              "      <td>4.4</td>\n",
              "      <td>.314</td>\n",
              "      <td>11.2</td>\n",
              "      <td>5.0</td>\n",
              "      <td>-3.5</td>\n",
              "      <td>812</td>\n",
              "      <td>90.0</td>\n",
              "      <td>.340</td>\n",
              "      <td>106</td>\n",
              "    </tr>\n",
              "    <tr>\n",
              "      <th>MIN</th>\n",
              "      <th>2010</th>\n",
              "      <td>4</td>\n",
              "      <td>6257</td>\n",
              "      <td>8.9%</td>\n",
              "      <td>15.5%</td>\n",
              "      <td>0.58</td>\n",
              "      <td>.273</td>\n",
              "      <td>.341</td>\n",
              "      <td>.422</td>\n",
              "      <td>.762</td>\n",
              "      <td>.148</td>\n",
              "      <td>4.5</td>\n",
              "      <td>.306</td>\n",
              "      <td>-6.9</td>\n",
              "      <td>-6.4</td>\n",
              "      <td>-2.5</td>\n",
              "      <td>787</td>\n",
              "      <td>68.0</td>\n",
              "      <td>.335</td>\n",
              "      <td>106</td>\n",
              "    </tr>\n",
              "    <tr>\n",
              "      <th>MIL</th>\n",
              "      <th>2010</th>\n",
              "      <td>5</td>\n",
              "      <td>6304</td>\n",
              "      <td>8.7%</td>\n",
              "      <td>19.3%</td>\n",
              "      <td>0.45</td>\n",
              "      <td>.262</td>\n",
              "      <td>.335</td>\n",
              "      <td>.424</td>\n",
              "      <td>.759</td>\n",
              "      <td>.161</td>\n",
              "      <td>4.4</td>\n",
              "      <td>.304</td>\n",
              "      <td>-4.5</td>\n",
              "      <td>4.1</td>\n",
              "      <td>1.0</td>\n",
              "      <td>788</td>\n",
              "      <td>64.2</td>\n",
              "      <td>.334</td>\n",
              "      <td>104</td>\n",
              "    </tr>\n",
              "  </tbody>\n",
              "</table>\n",
              "</div>"
            ],
            "text/plain": [
              "             #    PA    BB%     K%  BB/K  ...   wSB  wRC   wRAA  wOBA wRC+\n",
              "Team Season                               ...                             \n",
              "NYY  2010    1  6379  10.4%  17.8%  0.58  ...   3.4  860  127.4  .346  112\n",
              "BOS  2010    2  6356   9.2%  17.9%  0.51  ...   2.1  851  121.3  .345  109\n",
              "CIN  2010    3  6285   8.3%  19.4%  0.43  ...  -3.5  812   90.0  .340  106\n",
              "MIN  2010    4  6257   8.9%  15.5%  0.58  ...  -2.5  787   68.0  .335  106\n",
              "MIL  2010    5  6304   8.7%  19.3%  0.45  ...   1.0  788   64.2  .334  104\n",
              "\n",
              "[5 rows x 19 columns]"
            ]
          },
          "metadata": {
            "tags": []
          },
          "execution_count": 66
        }
      ]
    },
    {
      "cell_type": "markdown",
      "metadata": {
        "id": "UIQVAf-0bG61"
      },
      "source": [
        "###Defensive Statistics Upload###\n",
        "\n",
        "The same process for uploading the offensive statistics will be repeated for defensive metrics."
      ]
    },
    {
      "cell_type": "code",
      "metadata": {
        "id": "eKsM8V7BsRHx"
      },
      "source": [
        "# Location for defensive statistics\n",
        "pit19 = 'https://www.fangraphs.com/leaders.aspx?pos=all&stats=pit&lg=all&qual=0&type=1&season=2019&month=0&season1=2019&ind=0&team=0,ts&rost=0&age=0&filter=&players=0&startdate=2019-01-01&enddate=2019-12-31'\n",
        "pit18 = 'https://www.fangraphs.com/leaders.aspx?pos=all&stats=pit&lg=all&qual=0&type=1&season=2018&month=0&season1=2018&ind=0&team=0,ts&rost=0&age=0&filter=&players=0&startdate=2018-01-01&enddate=2018-12-31'\n",
        "pit17 = 'https://www.fangraphs.com/leaders.aspx?pos=all&stats=pit&lg=all&qual=0&type=1&season=2017&month=0&season1=2017&ind=0&team=0,ts&rost=0&age=0&filter=&players=0&startdate=2017-01-01&enddate=2017-12-31'\n",
        "pit16 = 'https://www.fangraphs.com/leaders.aspx?pos=all&stats=pit&lg=all&qual=0&type=1&season=2016&month=0&season1=2016&ind=0&team=0,ts&rost=0&age=0&filter=&players=0&startdate=2016-01-01&enddate=2016-12-31'\n",
        "pit15 = 'https://www.fangraphs.com/leaders.aspx?pos=all&stats=pit&lg=all&qual=0&type=1&season=2015&month=0&season1=2015&ind=0&team=0,ts&rost=0&age=0&filter=&players=0&startdate=2015-01-01&enddate=2015-12-31'\n",
        "pit14 = 'https://www.fangraphs.com/leaders.aspx?pos=all&stats=pit&lg=all&qual=0&type=1&season=2014&month=0&season1=2014&ind=0&team=0,ts&rost=0&age=0&filter=&players=0&startdate=2014-01-01&enddate=2014-12-31'\n",
        "pit13 = 'https://www.fangraphs.com/leaders.aspx?pos=all&stats=pit&lg=all&qual=0&type=1&season=2013&month=0&season1=2013&ind=0&team=0,ts&rost=0&age=0&filter=&players=0&startdate=2013-01-01&enddate=2013-12-31'\n",
        "pit12 = 'https://www.fangraphs.com/leaders.aspx?pos=all&stats=pit&lg=all&qual=0&type=1&season=2012&month=0&season1=2012&ind=0&team=0,ts&rost=0&age=0&filter=&players=0&startdate=2012-01-01&enddate=2012-12-31'\n",
        "pit11 = 'https://www.fangraphs.com/leaders.aspx?pos=all&stats=pit&lg=all&qual=0&type=1&season=2011&month=0&season1=2011&ind=0&team=0,ts&rost=0&age=0&filter=&players=0&startdate=2011-01-01&enddate=2011-12-31'\n",
        "pit10 = 'https://www.fangraphs.com/leaders.aspx?pos=all&stats=pit&lg=all&qual=0&type=1&season=2010&month=0&season1=2010&ind=0&team=0,ts&rost=0&age=0&filter=&players=0&startdate=2010-01-01&enddate=2010-12-31'\n",
        "\n",
        "# Upload to pandas\n",
        "pit19 = pd.read_html(pit19)\n",
        "pit18 = pd.read_html(pit18)\n",
        "pit17 = pd.read_html(pit17)\n",
        "pit16 = pd.read_html(pit16)\n",
        "pit15 = pd.read_html(pit15)\n",
        "pit14 = pd.read_html(pit14)\n",
        "pit13 = pd.read_html(pit13)\n",
        "pit12 = pd.read_html(pit12)\n",
        "pit11 = pd.read_html(pit11)\n",
        "pit10 = pd.read_html(pit10)\n",
        "\n",
        "\n",
        "# Conversion to DataFrames\n",
        "pit19df = pit19[16]\n",
        "pit18df = pit18[16]\n",
        "pit17df = pit17[16]\n",
        "pit16df = pit16[16]\n",
        "pit15df = pit15[16]\n",
        "pit14df = pit14[16]\n",
        "pit13df = pit13[16]\n",
        "pit12df = pit12[16]\n",
        "pit11df = pit11[16]\n",
        "pit10df = pit10[16]\n",
        "\n",
        "# Creating list of DataFrames\n",
        "d_list = [pit10df, pit11df, pit12df, pit13df, pit14df, pit15df, pit16df,\n",
        "          pit17df, pit18df, pit19df]"
      ],
      "execution_count": null,
      "outputs": []
    },
    {
      "cell_type": "code",
      "metadata": {
        "id": "BitX3vEJj0yn"
      },
      "source": [
        "# Cleaning data and adding the respective seasons\n",
        "d_data = []\n",
        "for i, df in enumerate(d_list):\n",
        "  new_df = df.set_axis(['#','Team','K/9','BB/9','K/BB','HR/9','K%','BB%',\n",
        "                        'K-BB%','AVG','WHIP','BABIP','LOB%','ERA-','FIP-',\n",
        "                        'xFIP-','ERA','FIP','E-F','xFIP','SIERA'], axis = 'columns')\n",
        "  new_df = new_df.drop([30], axis=0)\n",
        "  new_df['Season'] = 2010 + i\n",
        "  d_data.append(new_df)"
      ],
      "execution_count": null,
      "outputs": []
    },
    {
      "cell_type": "code",
      "metadata": {
        "id": "UGX3Q6wrpG0V"
      },
      "source": [
        "# Fixing FLA to MIA problem\n",
        "mask10 = d_data[0]['Team'] == 'FLA'\n",
        "mask11 = d_data[1]['Team'] == 'FLA'\n",
        "\n",
        "d_data[0].loc[mask10, 'Team'] = 'MIA'\n",
        "d_data[1].loc[mask11, 'Team'] = 'MIA'"
      ],
      "execution_count": null,
      "outputs": []
    },
    {
      "cell_type": "code",
      "metadata": {
        "id": "2Q5Y-h16pOLH"
      },
      "source": [
        "dData = []\n",
        "for df in d_data:\n",
        "  new_df = df.set_index(['Team', 'Season'])\n",
        "  dData.append(new_df)"
      ],
      "execution_count": null,
      "outputs": []
    },
    {
      "cell_type": "code",
      "metadata": {
        "id": "gcdDeKY6pbpK"
      },
      "source": [
        "# Concatenating DataFrames into the same DataFrame\n",
        "d_merge = dData[0]\n",
        "for j in range(len(dData) - 1):\n",
        "  d_merge = pd.concat([d_merge, dData[j + 1]], axis = 0)"
      ],
      "execution_count": null,
      "outputs": []
    },
    {
      "cell_type": "code",
      "metadata": {
        "colab": {
          "base_uri": "https://localhost:8080/"
        },
        "id": "rV7VBZ8NcAM0",
        "outputId": "66e52c73-d38f-4ff2-8baf-5dbe03f63dd8"
      },
      "source": [
        "r, c = d_merge.shape\n",
        "print(\"Out of 300 seasons, there are {} missing for defensive stats\".format(300 - r))"
      ],
      "execution_count": null,
      "outputs": [
        {
          "output_type": "stream",
          "text": [
            "Out of 300 seasons, there are 0 missing for defensive stats\n"
          ],
          "name": "stdout"
        }
      ]
    },
    {
      "cell_type": "code",
      "metadata": {
        "colab": {
          "base_uri": "https://localhost:8080/"
        },
        "id": "3my4yT3tcDp-",
        "outputId": "ddb5f5d2-9051-4635-e73a-fc39ed28654d"
      },
      "source": [
        "d_merge.isnull().any()"
      ],
      "execution_count": null,
      "outputs": [
        {
          "output_type": "execute_result",
          "data": {
            "text/plain": [
              "#        False\n",
              "K/9      False\n",
              "BB/9     False\n",
              "K/BB     False\n",
              "HR/9     False\n",
              "K%       False\n",
              "BB%      False\n",
              "K-BB%    False\n",
              "AVG      False\n",
              "WHIP     False\n",
              "BABIP    False\n",
              "LOB%     False\n",
              "ERA-     False\n",
              "FIP-     False\n",
              "xFIP-    False\n",
              "ERA      False\n",
              "FIP      False\n",
              "E-F      False\n",
              "xFIP     False\n",
              "SIERA    False\n",
              "dtype: bool"
            ]
          },
          "metadata": {
            "tags": []
          },
          "execution_count": 73
        }
      ]
    },
    {
      "cell_type": "code",
      "metadata": {
        "colab": {
          "base_uri": "https://localhost:8080/",
          "height": 225
        },
        "id": "pXeLRNrdpjCn",
        "outputId": "98c00368-481f-437d-965e-c47b8ae88117"
      },
      "source": [
        "d_merge.head()"
      ],
      "execution_count": null,
      "outputs": [
        {
          "output_type": "execute_result",
          "data": {
            "text/html": [
              "<div>\n",
              "<style scoped>\n",
              "    .dataframe tbody tr th:only-of-type {\n",
              "        vertical-align: middle;\n",
              "    }\n",
              "\n",
              "    .dataframe tbody tr th {\n",
              "        vertical-align: top;\n",
              "    }\n",
              "\n",
              "    .dataframe thead th {\n",
              "        text-align: right;\n",
              "    }\n",
              "</style>\n",
              "<table border=\"1\" class=\"dataframe\">\n",
              "  <thead>\n",
              "    <tr style=\"text-align: right;\">\n",
              "      <th></th>\n",
              "      <th></th>\n",
              "      <th>#</th>\n",
              "      <th>K/9</th>\n",
              "      <th>BB/9</th>\n",
              "      <th>K/BB</th>\n",
              "      <th>HR/9</th>\n",
              "      <th>K%</th>\n",
              "      <th>BB%</th>\n",
              "      <th>K-BB%</th>\n",
              "      <th>AVG</th>\n",
              "      <th>WHIP</th>\n",
              "      <th>BABIP</th>\n",
              "      <th>LOB%</th>\n",
              "      <th>ERA-</th>\n",
              "      <th>FIP-</th>\n",
              "      <th>xFIP-</th>\n",
              "      <th>ERA</th>\n",
              "      <th>FIP</th>\n",
              "      <th>E-F</th>\n",
              "      <th>xFIP</th>\n",
              "      <th>SIERA</th>\n",
              "    </tr>\n",
              "    <tr>\n",
              "      <th>Team</th>\n",
              "      <th>Season</th>\n",
              "      <th></th>\n",
              "      <th></th>\n",
              "      <th></th>\n",
              "      <th></th>\n",
              "      <th></th>\n",
              "      <th></th>\n",
              "      <th></th>\n",
              "      <th></th>\n",
              "      <th></th>\n",
              "      <th></th>\n",
              "      <th></th>\n",
              "      <th></th>\n",
              "      <th></th>\n",
              "      <th></th>\n",
              "      <th></th>\n",
              "      <th></th>\n",
              "      <th></th>\n",
              "      <th></th>\n",
              "      <th></th>\n",
              "      <th></th>\n",
              "    </tr>\n",
              "  </thead>\n",
              "  <tbody>\n",
              "    <tr>\n",
              "      <th>ATL</th>\n",
              "      <th>2010</th>\n",
              "      <td>1</td>\n",
              "      <td>7.76</td>\n",
              "      <td>3.16</td>\n",
              "      <td>2.46</td>\n",
              "      <td>0.79</td>\n",
              "      <td>20.5%</td>\n",
              "      <td>8.3%</td>\n",
              "      <td>12.2%</td>\n",
              "      <td>.241</td>\n",
              "      <td>1.27</td>\n",
              "      <td>.290</td>\n",
              "      <td>73.4%</td>\n",
              "      <td>89</td>\n",
              "      <td>92</td>\n",
              "      <td>91</td>\n",
              "      <td>3.57</td>\n",
              "      <td>3.65</td>\n",
              "      <td>-0.08</td>\n",
              "      <td>3.65</td>\n",
              "      <td>3.62</td>\n",
              "    </tr>\n",
              "    <tr>\n",
              "      <th>SDP</th>\n",
              "      <th>2010</th>\n",
              "      <td>2</td>\n",
              "      <td>8.00</td>\n",
              "      <td>3.20</td>\n",
              "      <td>2.50</td>\n",
              "      <td>0.86</td>\n",
              "      <td>21.4%</td>\n",
              "      <td>8.5%</td>\n",
              "      <td>12.8%</td>\n",
              "      <td>.237</td>\n",
              "      <td>1.25</td>\n",
              "      <td>.286</td>\n",
              "      <td>76.7%</td>\n",
              "      <td>92</td>\n",
              "      <td>95</td>\n",
              "      <td>92</td>\n",
              "      <td>3.41</td>\n",
              "      <td>3.66</td>\n",
              "      <td>-0.26</td>\n",
              "      <td>3.67</td>\n",
              "      <td>3.63</td>\n",
              "    </tr>\n",
              "    <tr>\n",
              "      <th>SFG</th>\n",
              "      <th>2010</th>\n",
              "      <td>3</td>\n",
              "      <td>8.20</td>\n",
              "      <td>3.56</td>\n",
              "      <td>2.30</td>\n",
              "      <td>0.83</td>\n",
              "      <td>21.6%</td>\n",
              "      <td>9.4%</td>\n",
              "      <td>12.2%</td>\n",
              "      <td>.231</td>\n",
              "      <td>1.27</td>\n",
              "      <td>.282</td>\n",
              "      <td>77.0%</td>\n",
              "      <td>87</td>\n",
              "      <td>97</td>\n",
              "      <td>99</td>\n",
              "      <td>3.36</td>\n",
              "      <td>3.74</td>\n",
              "      <td>-0.38</td>\n",
              "      <td>3.94</td>\n",
              "      <td>3.79</td>\n",
              "    </tr>\n",
              "    <tr>\n",
              "      <th>LAD</th>\n",
              "      <th>2010</th>\n",
              "      <td>4</td>\n",
              "      <td>7.95</td>\n",
              "      <td>3.36</td>\n",
              "      <td>2.36</td>\n",
              "      <td>0.84</td>\n",
              "      <td>20.7%</td>\n",
              "      <td>8.8%</td>\n",
              "      <td>12.0%</td>\n",
              "      <td>.239</td>\n",
              "      <td>1.29</td>\n",
              "      <td>.287</td>\n",
              "      <td>70.9%</td>\n",
              "      <td>105</td>\n",
              "      <td>96</td>\n",
              "      <td>97</td>\n",
              "      <td>4.01</td>\n",
              "      <td>3.76</td>\n",
              "      <td>0.25</td>\n",
              "      <td>3.87</td>\n",
              "      <td>3.76</td>\n",
              "    </tr>\n",
              "    <tr>\n",
              "      <th>CHW</th>\n",
              "      <th>2010</th>\n",
              "      <td>5</td>\n",
              "      <td>7.15</td>\n",
              "      <td>3.05</td>\n",
              "      <td>2.34</td>\n",
              "      <td>0.85</td>\n",
              "      <td>18.6%</td>\n",
              "      <td>7.9%</td>\n",
              "      <td>10.7%</td>\n",
              "      <td>.260</td>\n",
              "      <td>1.36</td>\n",
              "      <td>.305</td>\n",
              "      <td>71.5%</td>\n",
              "      <td>94</td>\n",
              "      <td>87</td>\n",
              "      <td>94</td>\n",
              "      <td>4.09</td>\n",
              "      <td>3.80</td>\n",
              "      <td>0.30</td>\n",
              "      <td>3.94</td>\n",
              "      <td>3.91</td>\n",
              "    </tr>\n",
              "  </tbody>\n",
              "</table>\n",
              "</div>"
            ],
            "text/plain": [
              "             #   K/9  BB/9  K/BB  HR/9  ...   ERA   FIP    E-F  xFIP SIERA\n",
              "Team Season                             ...                               \n",
              "ATL  2010    1  7.76  3.16  2.46  0.79  ...  3.57  3.65  -0.08  3.65  3.62\n",
              "SDP  2010    2  8.00  3.20  2.50  0.86  ...  3.41  3.66  -0.26  3.67  3.63\n",
              "SFG  2010    3  8.20  3.56  2.30  0.83  ...  3.36  3.74  -0.38  3.94  3.79\n",
              "LAD  2010    4  7.95  3.36  2.36  0.84  ...  4.01  3.76   0.25  3.87  3.76\n",
              "CHW  2010    5  7.15  3.05  2.34  0.85  ...  4.09  3.80   0.30  3.94  3.91\n",
              "\n",
              "[5 rows x 20 columns]"
            ]
          },
          "metadata": {
            "tags": []
          },
          "execution_count": 74
        }
      ]
    },
    {
      "cell_type": "markdown",
      "metadata": {
        "id": "sKCSXDIPccL8"
      },
      "source": [
        "###Standings###\n",
        "\n",
        "This section adds standings for each season for each team from teamrankings.com and merges them with the existing offensive and defensive statistics."
      ]
    },
    {
      "cell_type": "code",
      "metadata": {
        "id": "VM7tNny43N4X"
      },
      "source": [
        "# Standings for each season\n",
        "standing10 = 'https://www.teamrankings.com/mlb/trends/win_trends/?range=yearly_mlb_2010'\n",
        "standing11 = 'https://www.teamrankings.com/mlb/trends/win_trends/?range=yearly_mlb_2011'\n",
        "standing12 = 'https://www.teamrankings.com/mlb/trends/win_trends/?range=yearly_mlb_2012'\n",
        "standing13 = 'https://www.teamrankings.com/mlb/trends/win_trends/?range=yearly_mlb_2013'\n",
        "standing14 = 'https://www.teamrankings.com/mlb/trends/win_trends/?range=yearly_mlb_2014'\n",
        "standing15 = 'https://www.teamrankings.com/mlb/trends/win_trends/?range=yearly_mlb_2015'\n",
        "standing16 = 'https://www.teamrankings.com/mlb/trends/win_trends/?range=yearly_mlb_2016'\n",
        "standing17 = 'https://www.teamrankings.com/mlb/trends/win_trends/?range=yearly_mlb_2017'\n",
        "standing18 = 'https://www.teamrankings.com/mlb/trends/win_trends/?range=yearly_mlb_2018'\n",
        "standing19 = 'https://www.teamrankings.com/mlb/trends/win_trends/?range=yearly_mlb_2019'\n",
        "\n",
        "# Reading into pandas\n",
        "standing10 = pd.read_html(standing10)\n",
        "standing11 = pd.read_html(standing11)\n",
        "standing12 = pd.read_html(standing12)\n",
        "standing13 = pd.read_html(standing13)\n",
        "standing14 = pd.read_html(standing14)\n",
        "standing15 = pd.read_html(standing15)\n",
        "standing16 = pd.read_html(standing16)\n",
        "standing17 = pd.read_html(standing17)\n",
        "standing18 = pd.read_html(standing18)\n",
        "standing19 = pd.read_html(standing19)\n",
        "\n"
      ],
      "execution_count": null,
      "outputs": []
    },
    {
      "cell_type": "code",
      "metadata": {
        "id": "4lufR4X98uJy"
      },
      "source": [
        "# Creating list of standings\n",
        "standing_list = [standing10, standing11, standing12, standing13, standing14,\n",
        "                 standing15, standing16, standing17, standing18, standing19]"
      ],
      "execution_count": null,
      "outputs": []
    },
    {
      "cell_type": "code",
      "metadata": {
        "id": "JZz2ZeP946sf"
      },
      "source": [
        "# Creating DataFrame of team names to abbreviations for merging\n",
        "team_df = pd.DataFrame(standing10[0]['Team'])\n",
        "\n",
        "team_df['Abbreviation'] = pd.Series(['PHI', 'TBR', 'NYY', 'SFG', 'MIN', 'SDP', 'ATL', 'CIN',\n",
        "                           'TEX', 'BOS', 'CHW', 'STL', 'TOR', 'COL', 'DET', 'OAK',\n",
        "                           'LAD', 'MIA', 'LAA', 'NYM', 'MIL', 'HOU', 'CHC', 'WSN',\n",
        "                           'CLE', 'KCR', 'BAL', 'ARI', 'SEA', 'PIT'])"
      ],
      "execution_count": null,
      "outputs": []
    },
    {
      "cell_type": "code",
      "metadata": {
        "id": "hXeDBBZs3zE8"
      },
      "source": [
        "# Adds the abbreviations and season to the standings lists\n",
        "for i, df in enumerate(standing_list):\n",
        "  df[0]['Season'] = 2010 + i\n",
        "  df[0] = pd.merge(df[0], team_df, left_on='Team', right_on='Team')"
      ],
      "execution_count": null,
      "outputs": []
    },
    {
      "cell_type": "code",
      "metadata": {
        "id": "J8SpDKEu9Ger"
      },
      "source": [
        "# Concatenates all standings into one DataFrame\n",
        "team_rec = standing10[0]\n",
        "for j in range(len(standing_list) - 1):\n",
        "  team_rec = pd.concat([team_rec, standing_list[j + 1][0]], axis = 0)"
      ],
      "execution_count": null,
      "outputs": []
    },
    {
      "cell_type": "code",
      "metadata": {
        "id": "NLzg8IOGG-12"
      },
      "source": [
        "# Drops the full name team from the team records, then renames Abbreviation to Team\n",
        "team_rec = team_rec.drop('Team', axis = 1)\n",
        "team_rec = team_rec.rename(columns={'Abbreviation':'Team'})"
      ],
      "execution_count": null,
      "outputs": []
    },
    {
      "cell_type": "code",
      "metadata": {
        "id": "eVeGGJOmHoVl"
      },
      "source": [
        "team_rec = team_rec.set_index(['Team', 'Season'])"
      ],
      "execution_count": null,
      "outputs": []
    },
    {
      "cell_type": "code",
      "metadata": {
        "colab": {
          "base_uri": "https://localhost:8080/"
        },
        "id": "HZGowj02S73e",
        "outputId": "7efcb70c-95de-475e-ec2c-49f0cd26b51f"
      },
      "source": [
        "# Merges the standings with the defensive metrics\n",
        "d_merge = pd.merge(d_merge, team_rec, left_index=True, right_index=True)\n",
        "r, c = d_merge.shape\n",
        "print(\"Out of 300 seasons, there are {} missing for defensive stats\".format(300 - r))"
      ],
      "execution_count": null,
      "outputs": [
        {
          "output_type": "stream",
          "text": [
            "Out of 300 seasons, there are 0 missing for defensive stats\n"
          ],
          "name": "stdout"
        }
      ]
    },
    {
      "cell_type": "code",
      "metadata": {
        "colab": {
          "base_uri": "https://localhost:8080/"
        },
        "id": "5wnS2aWzd5UP",
        "outputId": "2f02efea-2e76-46cf-bf92-2b4aaf9fddfb"
      },
      "source": [
        "d_merge.isnull().any()"
      ],
      "execution_count": null,
      "outputs": [
        {
          "output_type": "execute_result",
          "data": {
            "text/plain": [
              "#                  False\n",
              "K/9                False\n",
              "BB/9               False\n",
              "K/BB               False\n",
              "HR/9               False\n",
              "K%                 False\n",
              "BB%                False\n",
              "K-BB%              False\n",
              "AVG                False\n",
              "WHIP               False\n",
              "BABIP              False\n",
              "LOB%               False\n",
              "ERA-               False\n",
              "FIP-               False\n",
              "xFIP-              False\n",
              "ERA                False\n",
              "FIP                False\n",
              "E-F                False\n",
              "xFIP               False\n",
              "SIERA              False\n",
              "Win-Loss Record    False\n",
              "Win %              False\n",
              "MOV                False\n",
              "Run Line +/-       False\n",
              "dtype: bool"
            ]
          },
          "metadata": {
            "tags": []
          },
          "execution_count": 83
        }
      ]
    },
    {
      "cell_type": "code",
      "metadata": {
        "colab": {
          "base_uri": "https://localhost:8080/",
          "height": 362
        },
        "id": "yohwx_Cnd8ru",
        "outputId": "e19beb79-20cb-4aec-9b34-0783b47f4bf2"
      },
      "source": [
        "d_merge.head()"
      ],
      "execution_count": null,
      "outputs": [
        {
          "output_type": "execute_result",
          "data": {
            "text/html": [
              "<div>\n",
              "<style scoped>\n",
              "    .dataframe tbody tr th:only-of-type {\n",
              "        vertical-align: middle;\n",
              "    }\n",
              "\n",
              "    .dataframe tbody tr th {\n",
              "        vertical-align: top;\n",
              "    }\n",
              "\n",
              "    .dataframe thead th {\n",
              "        text-align: right;\n",
              "    }\n",
              "</style>\n",
              "<table border=\"1\" class=\"dataframe\">\n",
              "  <thead>\n",
              "    <tr style=\"text-align: right;\">\n",
              "      <th></th>\n",
              "      <th></th>\n",
              "      <th>#</th>\n",
              "      <th>K/9</th>\n",
              "      <th>BB/9</th>\n",
              "      <th>K/BB</th>\n",
              "      <th>HR/9</th>\n",
              "      <th>K%</th>\n",
              "      <th>BB%</th>\n",
              "      <th>K-BB%</th>\n",
              "      <th>AVG</th>\n",
              "      <th>WHIP</th>\n",
              "      <th>BABIP</th>\n",
              "      <th>LOB%</th>\n",
              "      <th>ERA-</th>\n",
              "      <th>FIP-</th>\n",
              "      <th>xFIP-</th>\n",
              "      <th>ERA</th>\n",
              "      <th>FIP</th>\n",
              "      <th>E-F</th>\n",
              "      <th>xFIP</th>\n",
              "      <th>SIERA</th>\n",
              "      <th>Win-Loss Record</th>\n",
              "      <th>Win %</th>\n",
              "      <th>MOV</th>\n",
              "      <th>Run Line +/-</th>\n",
              "    </tr>\n",
              "    <tr>\n",
              "      <th>Team</th>\n",
              "      <th>Season</th>\n",
              "      <th></th>\n",
              "      <th></th>\n",
              "      <th></th>\n",
              "      <th></th>\n",
              "      <th></th>\n",
              "      <th></th>\n",
              "      <th></th>\n",
              "      <th></th>\n",
              "      <th></th>\n",
              "      <th></th>\n",
              "      <th></th>\n",
              "      <th></th>\n",
              "      <th></th>\n",
              "      <th></th>\n",
              "      <th></th>\n",
              "      <th></th>\n",
              "      <th></th>\n",
              "      <th></th>\n",
              "      <th></th>\n",
              "      <th></th>\n",
              "      <th></th>\n",
              "      <th></th>\n",
              "      <th></th>\n",
              "      <th></th>\n",
              "    </tr>\n",
              "  </thead>\n",
              "  <tbody>\n",
              "    <tr>\n",
              "      <th>ATL</th>\n",
              "      <th>2010</th>\n",
              "      <td>1</td>\n",
              "      <td>7.76</td>\n",
              "      <td>3.16</td>\n",
              "      <td>2.46</td>\n",
              "      <td>0.79</td>\n",
              "      <td>20.5%</td>\n",
              "      <td>8.3%</td>\n",
              "      <td>12.2%</td>\n",
              "      <td>.241</td>\n",
              "      <td>1.27</td>\n",
              "      <td>.290</td>\n",
              "      <td>73.4%</td>\n",
              "      <td>89</td>\n",
              "      <td>92</td>\n",
              "      <td>91</td>\n",
              "      <td>3.57</td>\n",
              "      <td>3.65</td>\n",
              "      <td>-0.08</td>\n",
              "      <td>3.65</td>\n",
              "      <td>3.62</td>\n",
              "      <td>92-74-0</td>\n",
              "      <td>55.4%</td>\n",
              "      <td>0.6</td>\n",
              "      <td>-0.1</td>\n",
              "    </tr>\n",
              "    <tr>\n",
              "      <th>SDP</th>\n",
              "      <th>2010</th>\n",
              "      <td>2</td>\n",
              "      <td>8.00</td>\n",
              "      <td>3.20</td>\n",
              "      <td>2.50</td>\n",
              "      <td>0.86</td>\n",
              "      <td>21.4%</td>\n",
              "      <td>8.5%</td>\n",
              "      <td>12.8%</td>\n",
              "      <td>.237</td>\n",
              "      <td>1.25</td>\n",
              "      <td>.286</td>\n",
              "      <td>76.7%</td>\n",
              "      <td>92</td>\n",
              "      <td>95</td>\n",
              "      <td>92</td>\n",
              "      <td>3.41</td>\n",
              "      <td>3.66</td>\n",
              "      <td>-0.26</td>\n",
              "      <td>3.67</td>\n",
              "      <td>3.63</td>\n",
              "      <td>90-72-0</td>\n",
              "      <td>55.6%</td>\n",
              "      <td>0.5</td>\n",
              "      <td>0.5</td>\n",
              "    </tr>\n",
              "    <tr>\n",
              "      <th>SFG</th>\n",
              "      <th>2010</th>\n",
              "      <td>3</td>\n",
              "      <td>8.20</td>\n",
              "      <td>3.56</td>\n",
              "      <td>2.30</td>\n",
              "      <td>0.83</td>\n",
              "      <td>21.6%</td>\n",
              "      <td>9.4%</td>\n",
              "      <td>12.2%</td>\n",
              "      <td>.231</td>\n",
              "      <td>1.27</td>\n",
              "      <td>.282</td>\n",
              "      <td>77.0%</td>\n",
              "      <td>87</td>\n",
              "      <td>97</td>\n",
              "      <td>99</td>\n",
              "      <td>3.36</td>\n",
              "      <td>3.74</td>\n",
              "      <td>-0.38</td>\n",
              "      <td>3.94</td>\n",
              "      <td>3.79</td>\n",
              "      <td>103-74-0</td>\n",
              "      <td>58.2%</td>\n",
              "      <td>0.7</td>\n",
              "      <td>0.5</td>\n",
              "    </tr>\n",
              "    <tr>\n",
              "      <th>LAD</th>\n",
              "      <th>2010</th>\n",
              "      <td>4</td>\n",
              "      <td>7.95</td>\n",
              "      <td>3.36</td>\n",
              "      <td>2.36</td>\n",
              "      <td>0.84</td>\n",
              "      <td>20.7%</td>\n",
              "      <td>8.8%</td>\n",
              "      <td>12.0%</td>\n",
              "      <td>.239</td>\n",
              "      <td>1.29</td>\n",
              "      <td>.287</td>\n",
              "      <td>70.9%</td>\n",
              "      <td>105</td>\n",
              "      <td>96</td>\n",
              "      <td>97</td>\n",
              "      <td>4.01</td>\n",
              "      <td>3.76</td>\n",
              "      <td>0.25</td>\n",
              "      <td>3.87</td>\n",
              "      <td>3.76</td>\n",
              "      <td>80-82-0</td>\n",
              "      <td>49.4%</td>\n",
              "      <td>-0.2</td>\n",
              "      <td>-0.4</td>\n",
              "    </tr>\n",
              "    <tr>\n",
              "      <th>CHW</th>\n",
              "      <th>2010</th>\n",
              "      <td>5</td>\n",
              "      <td>7.15</td>\n",
              "      <td>3.05</td>\n",
              "      <td>2.34</td>\n",
              "      <td>0.85</td>\n",
              "      <td>18.6%</td>\n",
              "      <td>7.9%</td>\n",
              "      <td>10.7%</td>\n",
              "      <td>.260</td>\n",
              "      <td>1.36</td>\n",
              "      <td>.305</td>\n",
              "      <td>71.5%</td>\n",
              "      <td>94</td>\n",
              "      <td>87</td>\n",
              "      <td>94</td>\n",
              "      <td>4.09</td>\n",
              "      <td>3.80</td>\n",
              "      <td>0.30</td>\n",
              "      <td>3.94</td>\n",
              "      <td>3.91</td>\n",
              "      <td>88-74-0</td>\n",
              "      <td>54.3%</td>\n",
              "      <td>0.3</td>\n",
              "      <td>0.0</td>\n",
              "    </tr>\n",
              "  </tbody>\n",
              "</table>\n",
              "</div>"
            ],
            "text/plain": [
              "             #   K/9  BB/9  K/BB  ... Win-Loss Record  Win %  MOV Run Line +/-\n",
              "Team Season                       ...                                         \n",
              "ATL  2010    1  7.76  3.16  2.46  ...         92-74-0  55.4%  0.6         -0.1\n",
              "SDP  2010    2  8.00  3.20  2.50  ...         90-72-0  55.6%  0.5          0.5\n",
              "SFG  2010    3  8.20  3.56  2.30  ...        103-74-0  58.2%  0.7          0.5\n",
              "LAD  2010    4  7.95  3.36  2.36  ...         80-82-0  49.4% -0.2         -0.4\n",
              "CHW  2010    5  7.15  3.05  2.34  ...         88-74-0  54.3%  0.3          0.0\n",
              "\n",
              "[5 rows x 24 columns]"
            ]
          },
          "metadata": {
            "tags": []
          },
          "execution_count": 84
        }
      ]
    },
    {
      "cell_type": "code",
      "metadata": {
        "colab": {
          "base_uri": "https://localhost:8080/"
        },
        "id": "hYsO6cq-W51n",
        "outputId": "4201cc09-4835-41e7-c9d8-4174c0c02a04"
      },
      "source": [
        "o_merge = pd.merge(o_merge, team_rec, left_index=True, right_index=True)\n",
        "r, c = o_merge.shape\n",
        "print(\"Out of 300 seasons, there are {} missing for offensive stats\".format(300 - r))"
      ],
      "execution_count": null,
      "outputs": [
        {
          "output_type": "stream",
          "text": [
            "Out of 300 seasons, there are 0 missing for offensive stats\n"
          ],
          "name": "stdout"
        }
      ]
    },
    {
      "cell_type": "code",
      "metadata": {
        "colab": {
          "base_uri": "https://localhost:8080/"
        },
        "id": "-Zcdf5XMeCz2",
        "outputId": "a395c3cf-342a-447c-bb6d-b45ed88792c1"
      },
      "source": [
        "o_merge.isnull().any()"
      ],
      "execution_count": null,
      "outputs": [
        {
          "output_type": "execute_result",
          "data": {
            "text/plain": [
              "#                  False\n",
              "PA                 False\n",
              "BB%                False\n",
              "K%                 False\n",
              "BB/K               False\n",
              "AVG                False\n",
              "OBP                False\n",
              "SLG                False\n",
              "OPS                False\n",
              "ISO                False\n",
              "Spd                False\n",
              "BABIP              False\n",
              "UBR                False\n",
              "wGDP               False\n",
              "wSB                False\n",
              "wRC                False\n",
              "wRAA               False\n",
              "wOBA               False\n",
              "wRC+               False\n",
              "Win-Loss Record    False\n",
              "Win %              False\n",
              "MOV                False\n",
              "Run Line +/-       False\n",
              "dtype: bool"
            ]
          },
          "metadata": {
            "tags": []
          },
          "execution_count": 86
        }
      ]
    },
    {
      "cell_type": "code",
      "metadata": {
        "colab": {
          "base_uri": "https://localhost:8080/",
          "height": 362
        },
        "id": "n3S8i_s8eFNx",
        "outputId": "acf9bd66-e992-46a1-b398-190532451954"
      },
      "source": [
        "o_merge.head()"
      ],
      "execution_count": null,
      "outputs": [
        {
          "output_type": "execute_result",
          "data": {
            "text/html": [
              "<div>\n",
              "<style scoped>\n",
              "    .dataframe tbody tr th:only-of-type {\n",
              "        vertical-align: middle;\n",
              "    }\n",
              "\n",
              "    .dataframe tbody tr th {\n",
              "        vertical-align: top;\n",
              "    }\n",
              "\n",
              "    .dataframe thead th {\n",
              "        text-align: right;\n",
              "    }\n",
              "</style>\n",
              "<table border=\"1\" class=\"dataframe\">\n",
              "  <thead>\n",
              "    <tr style=\"text-align: right;\">\n",
              "      <th></th>\n",
              "      <th></th>\n",
              "      <th>#</th>\n",
              "      <th>PA</th>\n",
              "      <th>BB%</th>\n",
              "      <th>K%</th>\n",
              "      <th>BB/K</th>\n",
              "      <th>AVG</th>\n",
              "      <th>OBP</th>\n",
              "      <th>SLG</th>\n",
              "      <th>OPS</th>\n",
              "      <th>ISO</th>\n",
              "      <th>Spd</th>\n",
              "      <th>BABIP</th>\n",
              "      <th>UBR</th>\n",
              "      <th>wGDP</th>\n",
              "      <th>wSB</th>\n",
              "      <th>wRC</th>\n",
              "      <th>wRAA</th>\n",
              "      <th>wOBA</th>\n",
              "      <th>wRC+</th>\n",
              "      <th>Win-Loss Record</th>\n",
              "      <th>Win %</th>\n",
              "      <th>MOV</th>\n",
              "      <th>Run Line +/-</th>\n",
              "    </tr>\n",
              "    <tr>\n",
              "      <th>Team</th>\n",
              "      <th>Season</th>\n",
              "      <th></th>\n",
              "      <th></th>\n",
              "      <th></th>\n",
              "      <th></th>\n",
              "      <th></th>\n",
              "      <th></th>\n",
              "      <th></th>\n",
              "      <th></th>\n",
              "      <th></th>\n",
              "      <th></th>\n",
              "      <th></th>\n",
              "      <th></th>\n",
              "      <th></th>\n",
              "      <th></th>\n",
              "      <th></th>\n",
              "      <th></th>\n",
              "      <th></th>\n",
              "      <th></th>\n",
              "      <th></th>\n",
              "      <th></th>\n",
              "      <th></th>\n",
              "      <th></th>\n",
              "      <th></th>\n",
              "    </tr>\n",
              "  </thead>\n",
              "  <tbody>\n",
              "    <tr>\n",
              "      <th>NYY</th>\n",
              "      <th>2010</th>\n",
              "      <td>1</td>\n",
              "      <td>6379</td>\n",
              "      <td>10.4%</td>\n",
              "      <td>17.8%</td>\n",
              "      <td>0.58</td>\n",
              "      <td>.267</td>\n",
              "      <td>.350</td>\n",
              "      <td>.436</td>\n",
              "      <td>.786</td>\n",
              "      <td>.169</td>\n",
              "      <td>4.8</td>\n",
              "      <td>.300</td>\n",
              "      <td>3.4</td>\n",
              "      <td>5.3</td>\n",
              "      <td>3.4</td>\n",
              "      <td>860</td>\n",
              "      <td>127.4</td>\n",
              "      <td>.346</td>\n",
              "      <td>112</td>\n",
              "      <td>100-71-0</td>\n",
              "      <td>58.5%</td>\n",
              "      <td>0.9</td>\n",
              "      <td>-0.2</td>\n",
              "    </tr>\n",
              "    <tr>\n",
              "      <th>BOS</th>\n",
              "      <th>2010</th>\n",
              "      <td>2</td>\n",
              "      <td>6356</td>\n",
              "      <td>9.2%</td>\n",
              "      <td>17.9%</td>\n",
              "      <td>0.51</td>\n",
              "      <td>.268</td>\n",
              "      <td>.339</td>\n",
              "      <td>.451</td>\n",
              "      <td>.790</td>\n",
              "      <td>.183</td>\n",
              "      <td>4.1</td>\n",
              "      <td>.299</td>\n",
              "      <td>-11.0</td>\n",
              "      <td>1.7</td>\n",
              "      <td>2.1</td>\n",
              "      <td>851</td>\n",
              "      <td>121.3</td>\n",
              "      <td>.345</td>\n",
              "      <td>109</td>\n",
              "      <td>89-73-0</td>\n",
              "      <td>54.9%</td>\n",
              "      <td>0.5</td>\n",
              "      <td>-0.2</td>\n",
              "    </tr>\n",
              "    <tr>\n",
              "      <th>CIN</th>\n",
              "      <th>2010</th>\n",
              "      <td>3</td>\n",
              "      <td>6285</td>\n",
              "      <td>8.3%</td>\n",
              "      <td>19.4%</td>\n",
              "      <td>0.43</td>\n",
              "      <td>.272</td>\n",
              "      <td>.338</td>\n",
              "      <td>.436</td>\n",
              "      <td>.774</td>\n",
              "      <td>.164</td>\n",
              "      <td>4.4</td>\n",
              "      <td>.314</td>\n",
              "      <td>11.2</td>\n",
              "      <td>5.0</td>\n",
              "      <td>-3.5</td>\n",
              "      <td>812</td>\n",
              "      <td>90.0</td>\n",
              "      <td>.340</td>\n",
              "      <td>106</td>\n",
              "      <td>91-74-0</td>\n",
              "      <td>55.1%</td>\n",
              "      <td>0.6</td>\n",
              "      <td>0.5</td>\n",
              "    </tr>\n",
              "    <tr>\n",
              "      <th>MIN</th>\n",
              "      <th>2010</th>\n",
              "      <td>4</td>\n",
              "      <td>6257</td>\n",
              "      <td>8.9%</td>\n",
              "      <td>15.5%</td>\n",
              "      <td>0.58</td>\n",
              "      <td>.273</td>\n",
              "      <td>.341</td>\n",
              "      <td>.422</td>\n",
              "      <td>.762</td>\n",
              "      <td>.148</td>\n",
              "      <td>4.5</td>\n",
              "      <td>.306</td>\n",
              "      <td>-6.9</td>\n",
              "      <td>-6.4</td>\n",
              "      <td>-2.5</td>\n",
              "      <td>787</td>\n",
              "      <td>68.0</td>\n",
              "      <td>.335</td>\n",
              "      <td>106</td>\n",
              "      <td>94-71-0</td>\n",
              "      <td>57.0%</td>\n",
              "      <td>0.6</td>\n",
              "      <td>0.2</td>\n",
              "    </tr>\n",
              "    <tr>\n",
              "      <th>MIL</th>\n",
              "      <th>2010</th>\n",
              "      <td>5</td>\n",
              "      <td>6304</td>\n",
              "      <td>8.7%</td>\n",
              "      <td>19.3%</td>\n",
              "      <td>0.45</td>\n",
              "      <td>.262</td>\n",
              "      <td>.335</td>\n",
              "      <td>.424</td>\n",
              "      <td>.759</td>\n",
              "      <td>.161</td>\n",
              "      <td>4.4</td>\n",
              "      <td>.304</td>\n",
              "      <td>-4.5</td>\n",
              "      <td>4.1</td>\n",
              "      <td>1.0</td>\n",
              "      <td>788</td>\n",
              "      <td>64.2</td>\n",
              "      <td>.334</td>\n",
              "      <td>104</td>\n",
              "      <td>77-85-0</td>\n",
              "      <td>47.5%</td>\n",
              "      <td>-0.3</td>\n",
              "      <td>-0.4</td>\n",
              "    </tr>\n",
              "  </tbody>\n",
              "</table>\n",
              "</div>"
            ],
            "text/plain": [
              "             #    PA    BB%     K%  ... Win-Loss Record  Win %  MOV Run Line +/-\n",
              "Team Season                         ...                                         \n",
              "NYY  2010    1  6379  10.4%  17.8%  ...        100-71-0  58.5%  0.9         -0.2\n",
              "BOS  2010    2  6356   9.2%  17.9%  ...         89-73-0  54.9%  0.5         -0.2\n",
              "CIN  2010    3  6285   8.3%  19.4%  ...         91-74-0  55.1%  0.6          0.5\n",
              "MIN  2010    4  6257   8.9%  15.5%  ...         94-71-0  57.0%  0.6          0.2\n",
              "MIL  2010    5  6304   8.7%  19.3%  ...         77-85-0  47.5% -0.3         -0.4\n",
              "\n",
              "[5 rows x 23 columns]"
            ]
          },
          "metadata": {
            "tags": []
          },
          "execution_count": 87
        }
      ]
    },
    {
      "cell_type": "markdown",
      "metadata": {
        "id": "v57PrPlUYTSP"
      },
      "source": [
        "##Determining How a Team Succeeds##\n",
        "\n",
        "With offensive and defensive statistics for the decade gathered along with the team's corresponding record for that season, the data needs to be narrowed down to a handful of core statistics that will predict a team's success for that season. For this analysis, there will be three statistics used to measure offensive and defensive success."
      ]
    },
    {
      "cell_type": "markdown",
      "metadata": {
        "id": "PkSOaEsOYzyw"
      },
      "source": [
        "###Defensive Metrics###\n",
        "***\n",
        "***FIP (Fielding Independent Pitching)***:\n",
        "\n",
        "This metric predicts a pitcher's run prevention ability independent of the performance of the defense behind them. It is characterized by the following equation: \n",
        "\n",
        "$$FIP = \\frac{13(HR) + 3(BB + HBP) - 2(K)}{IP}$$\n",
        "\n",
        "\n",
        "***xFIP (Expected Fielding Independent Pitching***:\n",
        "\n",
        "The exact same statistic as FIP, but instead predicts what a pitcher's FIP *should* have been. It is modeled by the equation:\n",
        "\n",
        "$$xFIP = \\frac{13(Flyballs * LgHR/FB\\%) + 3(BB + HBP) - 2(K)}{IP}$$\n",
        "\n",
        "The only difference is that it replaces pure home runs with the number of home runs the pitcher likely should have given up.\n",
        "\n",
        "***BABIP (Batting Average on Balls In Play)***\n",
        "\n",
        "BABIP measures the number of times that non-home run batted balls fall for hits. This statistic will be important for this study because it is primarily affected by two major factors; defense and luck. A higher BABIP means that more balls put in play fell for hits. It is characterized by the following equation:\n",
        "\n",
        "$$BABIP = \\frac{H - HR}{AB - HR - K + SF}$$\n",
        "***\n",
        "\n",
        "\n",
        "The following will create the simplified defensive metrics DataFrame."
      ]
    },
    {
      "cell_type": "code",
      "metadata": {
        "id": "gtfDx0opwaME"
      },
      "source": [
        "\"\"\"\n",
        "Converts the percentages column to float values without a % sign.\n",
        "\n",
        ":Param dfSeries: The series to remove the % sign from\n",
        ":Return: The new series to take its place\n",
        "\"\"\"\n",
        "def perc_conv(dfSeries):\n",
        "  new_vals = []\n",
        "  for perc in dfSeries:\n",
        "    new_val = \"\"\n",
        "    for i, char in enumerate(perc):\n",
        "      if i !=  4:\n",
        "        new_val += char\n",
        "    new_val = float(new_val)\n",
        "    new_vals.append(new_val)\n",
        "    \n",
        "  new_series = pd.Series(new_vals)\n",
        "  return new_series"
      ],
      "execution_count": null,
      "outputs": []
    },
    {
      "cell_type": "code",
      "metadata": {
        "id": "lmuyLnlfrBTE",
        "colab": {
          "base_uri": "https://localhost:8080/"
        },
        "outputId": "8352ae25-51c0-4561-8bee-ef9e057a42b2"
      },
      "source": [
        "# The creation of the new DataFrame\n",
        "d_metrics = d_merge[['FIP', 'xFIP', 'BABIP', 'Win %']]\n",
        "new_perc = perc_conv(d_metrics['Win %'])\n",
        "new_perc.index = d_metrics.index\n",
        "d_metrics['Win %'] = new_perc\n",
        "d_metrics = d_metrics.astype(float)\n",
        "d_metrics.dtypes"
      ],
      "execution_count": null,
      "outputs": [
        {
          "output_type": "stream",
          "text": [
            "/usr/local/lib/python3.7/dist-packages/ipykernel_launcher.py:5: SettingWithCopyWarning: \n",
            "A value is trying to be set on a copy of a slice from a DataFrame.\n",
            "Try using .loc[row_indexer,col_indexer] = value instead\n",
            "\n",
            "See the caveats in the documentation: https://pandas.pydata.org/pandas-docs/stable/user_guide/indexing.html#returning-a-view-versus-a-copy\n",
            "  \"\"\"\n"
          ],
          "name": "stderr"
        },
        {
          "output_type": "execute_result",
          "data": {
            "text/plain": [
              "FIP      float64\n",
              "xFIP     float64\n",
              "BABIP    float64\n",
              "Win %    float64\n",
              "dtype: object"
            ]
          },
          "metadata": {
            "tags": []
          },
          "execution_count": 89
        }
      ]
    },
    {
      "cell_type": "code",
      "metadata": {
        "colab": {
          "base_uri": "https://localhost:8080/"
        },
        "id": "vL4efSie097Q",
        "outputId": "b3ab236b-2f1e-4788-d6d7-a30913a5e233"
      },
      "source": [
        "r, c = d_metrics.shape\n",
        "print(\"Defensive Metrics DataFrame has {} rows and {} columns\".format(r, c))\n",
        "print(\"There are {} missing team performances\".format(300 - r))"
      ],
      "execution_count": null,
      "outputs": [
        {
          "output_type": "stream",
          "text": [
            "Defensive Metrics DataFrame has 300 rows and 4 columns\n",
            "There are 0 missing team performances\n"
          ],
          "name": "stdout"
        }
      ]
    },
    {
      "cell_type": "code",
      "metadata": {
        "colab": {
          "base_uri": "https://localhost:8080/"
        },
        "id": "ccMpjY_-xo5d",
        "outputId": "c218c84b-8f87-4848-9153-b3947269fd3a"
      },
      "source": [
        "d_metrics.isnull().any()"
      ],
      "execution_count": null,
      "outputs": [
        {
          "output_type": "execute_result",
          "data": {
            "text/plain": [
              "FIP      False\n",
              "xFIP     False\n",
              "BABIP    False\n",
              "Win %    False\n",
              "dtype: bool"
            ]
          },
          "metadata": {
            "tags": []
          },
          "execution_count": 91
        }
      ]
    },
    {
      "cell_type": "code",
      "metadata": {
        "colab": {
          "base_uri": "https://localhost:8080/",
          "height": 225
        },
        "id": "Aw3RPzMb1gxW",
        "outputId": "c07adfb5-287a-4cb6-9658-ff59b3930f56"
      },
      "source": [
        "d_metrics.head()"
      ],
      "execution_count": null,
      "outputs": [
        {
          "output_type": "execute_result",
          "data": {
            "text/html": [
              "<div>\n",
              "<style scoped>\n",
              "    .dataframe tbody tr th:only-of-type {\n",
              "        vertical-align: middle;\n",
              "    }\n",
              "\n",
              "    .dataframe tbody tr th {\n",
              "        vertical-align: top;\n",
              "    }\n",
              "\n",
              "    .dataframe thead th {\n",
              "        text-align: right;\n",
              "    }\n",
              "</style>\n",
              "<table border=\"1\" class=\"dataframe\">\n",
              "  <thead>\n",
              "    <tr style=\"text-align: right;\">\n",
              "      <th></th>\n",
              "      <th></th>\n",
              "      <th>FIP</th>\n",
              "      <th>xFIP</th>\n",
              "      <th>BABIP</th>\n",
              "      <th>Win %</th>\n",
              "    </tr>\n",
              "    <tr>\n",
              "      <th>Team</th>\n",
              "      <th>Season</th>\n",
              "      <th></th>\n",
              "      <th></th>\n",
              "      <th></th>\n",
              "      <th></th>\n",
              "    </tr>\n",
              "  </thead>\n",
              "  <tbody>\n",
              "    <tr>\n",
              "      <th>ATL</th>\n",
              "      <th>2010</th>\n",
              "      <td>3.65</td>\n",
              "      <td>3.65</td>\n",
              "      <td>0.290</td>\n",
              "      <td>55.4</td>\n",
              "    </tr>\n",
              "    <tr>\n",
              "      <th>SDP</th>\n",
              "      <th>2010</th>\n",
              "      <td>3.66</td>\n",
              "      <td>3.67</td>\n",
              "      <td>0.286</td>\n",
              "      <td>55.6</td>\n",
              "    </tr>\n",
              "    <tr>\n",
              "      <th>SFG</th>\n",
              "      <th>2010</th>\n",
              "      <td>3.74</td>\n",
              "      <td>3.94</td>\n",
              "      <td>0.282</td>\n",
              "      <td>58.2</td>\n",
              "    </tr>\n",
              "    <tr>\n",
              "      <th>LAD</th>\n",
              "      <th>2010</th>\n",
              "      <td>3.76</td>\n",
              "      <td>3.87</td>\n",
              "      <td>0.287</td>\n",
              "      <td>49.4</td>\n",
              "    </tr>\n",
              "    <tr>\n",
              "      <th>CHW</th>\n",
              "      <th>2010</th>\n",
              "      <td>3.80</td>\n",
              "      <td>3.94</td>\n",
              "      <td>0.305</td>\n",
              "      <td>54.3</td>\n",
              "    </tr>\n",
              "  </tbody>\n",
              "</table>\n",
              "</div>"
            ],
            "text/plain": [
              "              FIP  xFIP  BABIP  Win %\n",
              "Team Season                          \n",
              "ATL  2010    3.65  3.65  0.290   55.4\n",
              "SDP  2010    3.66  3.67  0.286   55.6\n",
              "SFG  2010    3.74  3.94  0.282   58.2\n",
              "LAD  2010    3.76  3.87  0.287   49.4\n",
              "CHW  2010    3.80  3.94  0.305   54.3"
            ]
          },
          "metadata": {
            "tags": []
          },
          "execution_count": 92
        }
      ]
    },
    {
      "cell_type": "markdown",
      "metadata": {
        "id": "jnlXMy-voigA"
      },
      "source": [
        "###Offense###\n",
        "***\n",
        "***wOBA (weighted on-base average)***:\n",
        "\n",
        "wOBA is a measure of on-base percentage that treats outcomes for getting on-base differently based on the way the batter reached base. Those weights can be seen in the following formula:\n",
        "\n",
        "$$wOBA = \\frac{.69(uBB) + .72(HBP) + .89(1B) + 1.27(2B) + 1.62(3B) + 2.10(HR)}{AB + BB - IBB + SF + HBP}$$\n",
        "\n",
        "\n",
        "***wRC+ (weighted runs created adjusted)***:\n",
        "\n",
        "Measures the runs created by a team above or below average, where a point above or below 100 is a percentage point greater or less than average created by the team (ie 120 means 20% more runs than average and 80 means 20% less). The stat is adjusted for environmental factors including the league and ballpark played in. For the sake of simplicity, we will assume the number is accurate rather than try to show the calculation for the statistic. It is a widely accepted single measure of offensive performance.\n",
        "\n",
        "***BABIP***\n",
        "\n",
        "The same as for defense, but for the offense instead.\n",
        "\n",
        "***\n",
        "The following will create the simplified offensive metrics DataFrame."
      ]
    },
    {
      "cell_type": "code",
      "metadata": {
        "colab": {
          "base_uri": "https://localhost:8080/"
        },
        "id": "rrvgjJeU2Z5Z",
        "outputId": "826bfcf3-99d4-41d3-ce50-339e40645420"
      },
      "source": [
        "# Creation of simplified DataFrame\n",
        "o_metrics = o_merge[['wOBA', 'wRC+', 'BABIP', 'Win %']]\n",
        "new_perc = perc_conv(o_metrics['Win %'])\n",
        "new_perc.index = o_metrics.index\n",
        "o_metrics['Win %'] = new_perc\n",
        "o_metrics = o_metrics.astype(float)\n",
        "o_metrics.dtypes"
      ],
      "execution_count": null,
      "outputs": [
        {
          "output_type": "stream",
          "text": [
            "/usr/local/lib/python3.7/dist-packages/ipykernel_launcher.py:5: SettingWithCopyWarning: \n",
            "A value is trying to be set on a copy of a slice from a DataFrame.\n",
            "Try using .loc[row_indexer,col_indexer] = value instead\n",
            "\n",
            "See the caveats in the documentation: https://pandas.pydata.org/pandas-docs/stable/user_guide/indexing.html#returning-a-view-versus-a-copy\n",
            "  \"\"\"\n"
          ],
          "name": "stderr"
        },
        {
          "output_type": "execute_result",
          "data": {
            "text/plain": [
              "wOBA     float64\n",
              "wRC+     float64\n",
              "BABIP    float64\n",
              "Win %    float64\n",
              "dtype: object"
            ]
          },
          "metadata": {
            "tags": []
          },
          "execution_count": 93
        }
      ]
    },
    {
      "cell_type": "code",
      "metadata": {
        "colab": {
          "base_uri": "https://localhost:8080/"
        },
        "id": "n3_3Ubl3ztrq",
        "outputId": "c691cca6-b462-47f6-9307-a4d6a7bd98c8"
      },
      "source": [
        "r, c = o_metrics.shape\n",
        "print(\"Offensive Metrics DataFrame has {} rows and {} columns\".format(r, c))\n",
        "print(\"There are {} missing team performances\".format(300 - r))"
      ],
      "execution_count": null,
      "outputs": [
        {
          "output_type": "stream",
          "text": [
            "Offensive Metrics DataFrame has 300 rows and 4 columns\n",
            "There are 0 missing team performances\n"
          ],
          "name": "stdout"
        }
      ]
    },
    {
      "cell_type": "code",
      "metadata": {
        "colab": {
          "base_uri": "https://localhost:8080/"
        },
        "id": "0MtgRHFIz5jS",
        "outputId": "87a9cf43-7ed2-4d5d-a072-ffde3260ec56"
      },
      "source": [
        "o_metrics.isnull().any()"
      ],
      "execution_count": null,
      "outputs": [
        {
          "output_type": "execute_result",
          "data": {
            "text/plain": [
              "wOBA     False\n",
              "wRC+     False\n",
              "BABIP    False\n",
              "Win %    False\n",
              "dtype: bool"
            ]
          },
          "metadata": {
            "tags": []
          },
          "execution_count": 95
        }
      ]
    },
    {
      "cell_type": "code",
      "metadata": {
        "colab": {
          "base_uri": "https://localhost:8080/",
          "height": 225
        },
        "id": "MsYxvDgghSts",
        "outputId": "1db3de93-cacd-4f85-a57f-9b9a21c9dfd9"
      },
      "source": [
        "o_metrics.head()"
      ],
      "execution_count": null,
      "outputs": [
        {
          "output_type": "execute_result",
          "data": {
            "text/html": [
              "<div>\n",
              "<style scoped>\n",
              "    .dataframe tbody tr th:only-of-type {\n",
              "        vertical-align: middle;\n",
              "    }\n",
              "\n",
              "    .dataframe tbody tr th {\n",
              "        vertical-align: top;\n",
              "    }\n",
              "\n",
              "    .dataframe thead th {\n",
              "        text-align: right;\n",
              "    }\n",
              "</style>\n",
              "<table border=\"1\" class=\"dataframe\">\n",
              "  <thead>\n",
              "    <tr style=\"text-align: right;\">\n",
              "      <th></th>\n",
              "      <th></th>\n",
              "      <th>wOBA</th>\n",
              "      <th>wRC+</th>\n",
              "      <th>BABIP</th>\n",
              "      <th>Win %</th>\n",
              "    </tr>\n",
              "    <tr>\n",
              "      <th>Team</th>\n",
              "      <th>Season</th>\n",
              "      <th></th>\n",
              "      <th></th>\n",
              "      <th></th>\n",
              "      <th></th>\n",
              "    </tr>\n",
              "  </thead>\n",
              "  <tbody>\n",
              "    <tr>\n",
              "      <th>NYY</th>\n",
              "      <th>2010</th>\n",
              "      <td>0.346</td>\n",
              "      <td>112.0</td>\n",
              "      <td>0.300</td>\n",
              "      <td>58.5</td>\n",
              "    </tr>\n",
              "    <tr>\n",
              "      <th>BOS</th>\n",
              "      <th>2010</th>\n",
              "      <td>0.345</td>\n",
              "      <td>109.0</td>\n",
              "      <td>0.299</td>\n",
              "      <td>54.9</td>\n",
              "    </tr>\n",
              "    <tr>\n",
              "      <th>CIN</th>\n",
              "      <th>2010</th>\n",
              "      <td>0.340</td>\n",
              "      <td>106.0</td>\n",
              "      <td>0.314</td>\n",
              "      <td>55.1</td>\n",
              "    </tr>\n",
              "    <tr>\n",
              "      <th>MIN</th>\n",
              "      <th>2010</th>\n",
              "      <td>0.335</td>\n",
              "      <td>106.0</td>\n",
              "      <td>0.306</td>\n",
              "      <td>57.0</td>\n",
              "    </tr>\n",
              "    <tr>\n",
              "      <th>MIL</th>\n",
              "      <th>2010</th>\n",
              "      <td>0.334</td>\n",
              "      <td>104.0</td>\n",
              "      <td>0.304</td>\n",
              "      <td>47.5</td>\n",
              "    </tr>\n",
              "  </tbody>\n",
              "</table>\n",
              "</div>"
            ],
            "text/plain": [
              "              wOBA   wRC+  BABIP  Win %\n",
              "Team Season                            \n",
              "NYY  2010    0.346  112.0  0.300   58.5\n",
              "BOS  2010    0.345  109.0  0.299   54.9\n",
              "CIN  2010    0.340  106.0  0.314   55.1\n",
              "MIN  2010    0.335  106.0  0.306   57.0\n",
              "MIL  2010    0.334  104.0  0.304   47.5"
            ]
          },
          "metadata": {
            "tags": []
          },
          "execution_count": 96
        }
      ]
    },
    {
      "cell_type": "markdown",
      "metadata": {
        "id": "N8Jr8Jrp5NTn"
      },
      "source": [
        "##Analyzing the Cubs##\n",
        "\n",
        "With the data sorted to provide metrics on performance of a team, the first part of this analysis is to look at the performance of the Chicago Cubs as a team over the decade."
      ]
    },
    {
      "cell_type": "markdown",
      "metadata": {
        "id": "7O5a6R0viCeZ"
      },
      "source": [
        "###Organizing Data###\n",
        "\n",
        "The following section shows the process for isolating and organizing the offensive and defensive metrics for the Cubs over the decade."
      ]
    },
    {
      "cell_type": "code",
      "metadata": {
        "colab": {
          "base_uri": "https://localhost:8080/"
        },
        "id": "DpHL3fT33JYb",
        "outputId": "741b2bab-7f79-4bf5-977a-fe08dd535d4f"
      },
      "source": [
        "# Isolating the Cubs offensive metrics\n",
        "o_metrics = o_metrics.reset_index()\n",
        "cubs_mask = o_metrics['Team'] == 'CHC'\n",
        "cubs_ostats = o_metrics[cubs_mask].drop(['Team'], axis = 1).set_index('Season')\n",
        "cubs_ostats"
      ],
      "execution_count": null,
      "outputs": [
        {
          "output_type": "execute_result",
          "data": {
            "text/html": [
              "<div>\n",
              "<style scoped>\n",
              "    .dataframe tbody tr th:only-of-type {\n",
              "        vertical-align: middle;\n",
              "    }\n",
              "\n",
              "    .dataframe tbody tr th {\n",
              "        vertical-align: top;\n",
              "    }\n",
              "\n",
              "    .dataframe thead th {\n",
              "        text-align: right;\n",
              "    }\n",
              "</style>\n",
              "<table border=\"1\" class=\"dataframe\">\n",
              "  <thead>\n",
              "    <tr style=\"text-align: right;\">\n",
              "      <th></th>\n",
              "      <th>wOBA</th>\n",
              "      <th>wRC+</th>\n",
              "      <th>BABIP</th>\n",
              "      <th>Win %</th>\n",
              "    </tr>\n",
              "    <tr>\n",
              "      <th>Season</th>\n",
              "      <th></th>\n",
              "      <th></th>\n",
              "      <th></th>\n",
              "      <th></th>\n",
              "    </tr>\n",
              "  </thead>\n",
              "  <tbody>\n",
              "    <tr>\n",
              "      <th>2010</th>\n",
              "      <td>0.318</td>\n",
              "      <td>90.0</td>\n",
              "      <td>0.304</td>\n",
              "      <td>46.3</td>\n",
              "    </tr>\n",
              "    <tr>\n",
              "      <th>2011</th>\n",
              "      <td>0.314</td>\n",
              "      <td>91.0</td>\n",
              "      <td>0.301</td>\n",
              "      <td>43.8</td>\n",
              "    </tr>\n",
              "    <tr>\n",
              "      <th>2012</th>\n",
              "      <td>0.297</td>\n",
              "      <td>81.0</td>\n",
              "      <td>0.286</td>\n",
              "      <td>37.6</td>\n",
              "    </tr>\n",
              "    <tr>\n",
              "      <th>2013</th>\n",
              "      <td>0.304</td>\n",
              "      <td>90.0</td>\n",
              "      <td>0.275</td>\n",
              "      <td>40.7</td>\n",
              "    </tr>\n",
              "    <tr>\n",
              "      <th>2014</th>\n",
              "      <td>0.303</td>\n",
              "      <td>91.0</td>\n",
              "      <td>0.296</td>\n",
              "      <td>45.1</td>\n",
              "    </tr>\n",
              "    <tr>\n",
              "      <th>2015</th>\n",
              "      <td>0.313</td>\n",
              "      <td>96.0</td>\n",
              "      <td>0.305</td>\n",
              "      <td>59.1</td>\n",
              "    </tr>\n",
              "    <tr>\n",
              "      <th>2016</th>\n",
              "      <td>0.333</td>\n",
              "      <td>106.0</td>\n",
              "      <td>0.302</td>\n",
              "      <td>64.0</td>\n",
              "    </tr>\n",
              "    <tr>\n",
              "      <th>2017</th>\n",
              "      <td>0.331</td>\n",
              "      <td>101.0</td>\n",
              "      <td>0.302</td>\n",
              "      <td>55.8</td>\n",
              "    </tr>\n",
              "    <tr>\n",
              "      <th>2018</th>\n",
              "      <td>0.321</td>\n",
              "      <td>100.0</td>\n",
              "      <td>0.313</td>\n",
              "      <td>57.9</td>\n",
              "    </tr>\n",
              "    <tr>\n",
              "      <th>2019</th>\n",
              "      <td>0.330</td>\n",
              "      <td>102.0</td>\n",
              "      <td>0.297</td>\n",
              "      <td>51.8</td>\n",
              "    </tr>\n",
              "  </tbody>\n",
              "</table>\n",
              "</div>"
            ],
            "text/plain": [
              "         wOBA   wRC+  BABIP  Win %\n",
              "Season                            \n",
              "2010    0.318   90.0  0.304   46.3\n",
              "2011    0.314   91.0  0.301   43.8\n",
              "2012    0.297   81.0  0.286   37.6\n",
              "2013    0.304   90.0  0.275   40.7\n",
              "2014    0.303   91.0  0.296   45.1\n",
              "2015    0.313   96.0  0.305   59.1\n",
              "2016    0.333  106.0  0.302   64.0\n",
              "2017    0.331  101.0  0.302   55.8\n",
              "2018    0.321  100.0  0.313   57.9\n",
              "2019    0.330  102.0  0.297   51.8"
            ]
          },
          "metadata": {
            "tags": []
          },
          "execution_count": 97
        }
      ]
    },
    {
      "cell_type": "code",
      "metadata": {
        "colab": {
          "base_uri": "https://localhost:8080/"
        },
        "id": "nii2-0me4pSw",
        "outputId": "f7bf4841-a517-4337-bd96-531498660997"
      },
      "source": [
        "# Isolating the Cubs defensive metrics\n",
        "d_metrics = d_metrics.reset_index()\n",
        "cubs_mask = d_metrics['Team'] == 'CHC'\n",
        "cubs_dstats = d_metrics[cubs_mask].drop(['Team'], axis = 1).set_index('Season')\n",
        "cubs_dstats"
      ],
      "execution_count": null,
      "outputs": [
        {
          "output_type": "execute_result",
          "data": {
            "text/html": [
              "<div>\n",
              "<style scoped>\n",
              "    .dataframe tbody tr th:only-of-type {\n",
              "        vertical-align: middle;\n",
              "    }\n",
              "\n",
              "    .dataframe tbody tr th {\n",
              "        vertical-align: top;\n",
              "    }\n",
              "\n",
              "    .dataframe thead th {\n",
              "        text-align: right;\n",
              "    }\n",
              "</style>\n",
              "<table border=\"1\" class=\"dataframe\">\n",
              "  <thead>\n",
              "    <tr style=\"text-align: right;\">\n",
              "      <th></th>\n",
              "      <th>FIP</th>\n",
              "      <th>xFIP</th>\n",
              "      <th>BABIP</th>\n",
              "      <th>Win %</th>\n",
              "    </tr>\n",
              "    <tr>\n",
              "      <th>Season</th>\n",
              "      <th></th>\n",
              "      <th></th>\n",
              "      <th></th>\n",
              "      <th></th>\n",
              "    </tr>\n",
              "  </thead>\n",
              "  <tbody>\n",
              "    <tr>\n",
              "      <th>2010</th>\n",
              "      <td>4.11</td>\n",
              "      <td>4.08</td>\n",
              "      <td>0.298</td>\n",
              "      <td>46.3</td>\n",
              "    </tr>\n",
              "    <tr>\n",
              "      <th>2011</th>\n",
              "      <td>4.11</td>\n",
              "      <td>4.02</td>\n",
              "      <td>0.301</td>\n",
              "      <td>43.8</td>\n",
              "    </tr>\n",
              "    <tr>\n",
              "      <th>2012</th>\n",
              "      <td>4.46</td>\n",
              "      <td>4.39</td>\n",
              "      <td>0.291</td>\n",
              "      <td>37.6</td>\n",
              "    </tr>\n",
              "    <tr>\n",
              "      <th>2013</th>\n",
              "      <td>4.10</td>\n",
              "      <td>4.13</td>\n",
              "      <td>0.279</td>\n",
              "      <td>40.7</td>\n",
              "    </tr>\n",
              "    <tr>\n",
              "      <th>2014</th>\n",
              "      <td>3.51</td>\n",
              "      <td>3.70</td>\n",
              "      <td>0.304</td>\n",
              "      <td>45.1</td>\n",
              "    </tr>\n",
              "    <tr>\n",
              "      <th>2015</th>\n",
              "      <td>3.30</td>\n",
              "      <td>3.37</td>\n",
              "      <td>0.287</td>\n",
              "      <td>59.1</td>\n",
              "    </tr>\n",
              "    <tr>\n",
              "      <th>2016</th>\n",
              "      <td>3.77</td>\n",
              "      <td>3.74</td>\n",
              "      <td>0.255</td>\n",
              "      <td>64.0</td>\n",
              "    </tr>\n",
              "    <tr>\n",
              "      <th>2017</th>\n",
              "      <td>4.20</td>\n",
              "      <td>4.10</td>\n",
              "      <td>0.285</td>\n",
              "      <td>55.8</td>\n",
              "    </tr>\n",
              "    <tr>\n",
              "      <th>2018</th>\n",
              "      <td>4.14</td>\n",
              "      <td>4.29</td>\n",
              "      <td>0.284</td>\n",
              "      <td>57.9</td>\n",
              "    </tr>\n",
              "    <tr>\n",
              "      <th>2019</th>\n",
              "      <td>4.25</td>\n",
              "      <td>4.29</td>\n",
              "      <td>0.300</td>\n",
              "      <td>51.8</td>\n",
              "    </tr>\n",
              "  </tbody>\n",
              "</table>\n",
              "</div>"
            ],
            "text/plain": [
              "         FIP  xFIP  BABIP  Win %\n",
              "Season                          \n",
              "2010    4.11  4.08  0.298   46.3\n",
              "2011    4.11  4.02  0.301   43.8\n",
              "2012    4.46  4.39  0.291   37.6\n",
              "2013    4.10  4.13  0.279   40.7\n",
              "2014    3.51  3.70  0.304   45.1\n",
              "2015    3.30  3.37  0.287   59.1\n",
              "2016    3.77  3.74  0.255   64.0\n",
              "2017    4.20  4.10  0.285   55.8\n",
              "2018    4.14  4.29  0.284   57.9\n",
              "2019    4.25  4.29  0.300   51.8"
            ]
          },
          "metadata": {
            "tags": []
          },
          "execution_count": 98
        }
      ]
    },
    {
      "cell_type": "code",
      "metadata": {
        "id": "2WZwxQ2MZOma"
      },
      "source": [
        "# Prepping formatting for visualization of the data\n",
        "\n",
        "import matplotlib.pyplot as plt\n",
        "\n",
        "plt.rcParams['figure.figsize'] = (12, 10) \n",
        "plt.style.use('ggplot')\n",
        "font = {'family' : 'normal',\n",
        "        'weight' : 'normal',\n",
        "        'size'   : 16}\n",
        "plt.rc('font', **font)"
      ],
      "execution_count": null,
      "outputs": []
    },
    {
      "cell_type": "markdown",
      "metadata": {
        "id": "kK8vyYbXik7Z"
      },
      "source": [
        "###Defensive Metrics for the Decade###\n",
        "\n",
        "Shows the Cubs defensive performance over the 2010s."
      ]
    },
    {
      "cell_type": "code",
      "metadata": {
        "id": "o77T06is2-in",
        "colab": {
          "base_uri": "https://localhost:8080/",
          "height": 625
        },
        "outputId": "d41ab9fe-b73c-4529-c91b-baa6a66f1286"
      },
      "source": [
        "fig1, (ax1, ax2) = plt.subplots(2, 1)\n",
        "ax1.plot(cubs_dstats.index, cubs_dstats['FIP'], label = 'FIP')\n",
        "ax1.plot(cubs_dstats.index, cubs_dstats['xFIP'], label = 'xFIP')\n",
        "ax1.set_ylim(3, 5)\n",
        "ax1.legend()\n",
        "\n",
        "ax2.plot(cubs_dstats.index, cubs_dstats['BABIP'], label = 'BABIP')\n",
        "ax2.set_xlabel('Season')\n",
        "ax2.legend()\n",
        "fig1.show()"
      ],
      "execution_count": null,
      "outputs": [
        {
          "output_type": "display_data",
          "data": {
            "image/png": "[encoded data removed]",
            "text/plain": [
              "<Figure size 864x720 with 2 Axes>"
            ]
          },
          "metadata": {
            "tags": []
          }
        }
      ]
    },
    {
      "cell_type": "markdown",
      "metadata": {
        "id": "DCeWCZ54aFDl"
      },
      "source": [
        "If nothing else was taken away from the selection process for the statistics, for Figure 1 just know that low is good. What Figure 1 shows is the pitching statistics for the Cubs this decade in the first subplot and the BABIP (or defensive/luck statistic) in the second. With regards to the FIP and xFIP, there was very little deviation between the values which suggests that the pitching itself was as good as the statistic expected it to be. This is interesting because the Cubs pitching actually *worsened* in 2016 from the previous season. In fact, the year prior their FIP was actually quite good, but as early as 2016 it was showing signs of a return to the mean (somewhere in the 4.00 range).\n",
        "\n",
        "However, FIP only accounts for true outcome baseball, which is why BABIP is so important as a comparison by showing the alternative (where balls are put in play in the field). In 2016, the Cubs had a ***0.255*** BABIP; that is not just good, it is INSANE. If anything, considering that the Cubs did better in 2016, the increase in FIP during the season only adds more weight to the importance of that statistic. When there is a major shift in BABIP, *especially* as a defensive metric, it is a really good indication that a significant amount of luck affected the number, especially if the BABIP for a given year normalizes to something reasonable in the years prior and post, as it did in the Cubs' case. The absurdity of that 2016 defensive BABIP will be explored later.\n",
        "\n",
        "Defensive metrics are important, but did the offense play an important role in helping the Cubs win a World Series? The young hitting core the team developed was supposedly paramount not only to winning that year, but creating a dynasty for years to come. Figure 2 shows the offensive metrics over the same span of time."
      ]
    },
    {
      "cell_type": "markdown",
      "metadata": {
        "id": "NadufsfOljtO"
      },
      "source": [
        "###Offensive Metrics for the Decade###\n",
        "\n",
        "A look at the offensive metrics of the decade for the Cubs."
      ]
    },
    {
      "cell_type": "code",
      "metadata": {
        "colab": {
          "base_uri": "https://localhost:8080/",
          "height": 620
        },
        "id": "whfc2ZGNaRHk",
        "outputId": "70322e68-c554-4918-940c-a38576e228f5"
      },
      "source": [
        "fig2, (ax1, ax2) = plt.subplots(2, 1)\n",
        "ax1.plot(cubs_ostats.index, cubs_ostats['wOBA'], label = 'wOBA')\n",
        "ax1.plot(cubs_ostats.index, cubs_ostats['BABIP'], label = 'BABIP')\n",
        "ax1.legend()\n",
        "\n",
        "ax2.plot(cubs_ostats.index, cubs_ostats['wRC+'], label = 'wRC+')\n",
        "ax2.plot(np.linspace(2010, 2019, 10), [100, 100, 100, 100, 100, 100, 100, 100, 100, 100], '--', label = 'MLB avg.')\n",
        "ax2.set_xlabel('Season')\n",
        "ax2.legend()\n",
        "fig2.show()"
      ],
      "execution_count": null,
      "outputs": [
        {
          "output_type": "display_data",
          "data": {
            "image/png": "[encoded data removed]",
            "text/plain": [
              "<Figure size 864x720 with 2 Axes>"
            ]
          },
          "metadata": {
            "tags": []
          }
        }
      ]
    },
    {
      "cell_type": "markdown",
      "metadata": {
        "id": "TJR96WhAnGQn"
      },
      "source": [
        "In Figure 2, if the statistics don't make sense then just know that bigger means better. The key part for the offensive metrics to understand from Figure 2 is the wRC+ (in the second subplot). MLB average is 100 every season, so it is highlighted by the dotted blue line. Any value below that line is subpar, and every value above it is a greater than average performance. As can be seen, 2016 was the first season all decade that the Cubs offense performed above average, and scored about 6% more runs than league average. This tells us that the offense did actually play a role in helping the Cubs win a World Series, though the offensive performance alone wasn't anything particularly special. "
      ]
    },
    {
      "cell_type": "markdown",
      "metadata": {
        "id": "A3fH7Gx-2-TC"
      },
      "source": [
        "##Exploring the Cubs 2016 Performance##\n",
        "\n",
        "To better understand the Cubs 2016 season, it needs to be compared with other seasons from the decade. "
      ]
    },
    {
      "cell_type": "code",
      "metadata": {
        "id": "cgn3ZCIC2xgS",
        "colab": {
          "base_uri": "https://localhost:8080/",
          "height": 195
        },
        "outputId": "083fa736-fa4f-4e1c-df36-c889a79098d1"
      },
      "source": [
        "# Resetting the d_metrics index\n",
        "d_metrics.reset_index()\n",
        "d_metrics.head()"
      ],
      "execution_count": null,
      "outputs": [
        {
          "output_type": "execute_result",
          "data": {
            "text/html": [
              "<div>\n",
              "<style scoped>\n",
              "    .dataframe tbody tr th:only-of-type {\n",
              "        vertical-align: middle;\n",
              "    }\n",
              "\n",
              "    .dataframe tbody tr th {\n",
              "        vertical-align: top;\n",
              "    }\n",
              "\n",
              "    .dataframe thead th {\n",
              "        text-align: right;\n",
              "    }\n",
              "</style>\n",
              "<table border=\"1\" class=\"dataframe\">\n",
              "  <thead>\n",
              "    <tr style=\"text-align: right;\">\n",
              "      <th></th>\n",
              "      <th>Team</th>\n",
              "      <th>Season</th>\n",
              "      <th>FIP</th>\n",
              "      <th>xFIP</th>\n",
              "      <th>BABIP</th>\n",
              "      <th>Win %</th>\n",
              "    </tr>\n",
              "  </thead>\n",
              "  <tbody>\n",
              "    <tr>\n",
              "      <th>0</th>\n",
              "      <td>ATL</td>\n",
              "      <td>2010</td>\n",
              "      <td>3.65</td>\n",
              "      <td>3.65</td>\n",
              "      <td>0.290</td>\n",
              "      <td>55.4</td>\n",
              "    </tr>\n",
              "    <tr>\n",
              "      <th>1</th>\n",
              "      <td>SDP</td>\n",
              "      <td>2010</td>\n",
              "      <td>3.66</td>\n",
              "      <td>3.67</td>\n",
              "      <td>0.286</td>\n",
              "      <td>55.6</td>\n",
              "    </tr>\n",
              "    <tr>\n",
              "      <th>2</th>\n",
              "      <td>SFG</td>\n",
              "      <td>2010</td>\n",
              "      <td>3.74</td>\n",
              "      <td>3.94</td>\n",
              "      <td>0.282</td>\n",
              "      <td>58.2</td>\n",
              "    </tr>\n",
              "    <tr>\n",
              "      <th>3</th>\n",
              "      <td>LAD</td>\n",
              "      <td>2010</td>\n",
              "      <td>3.76</td>\n",
              "      <td>3.87</td>\n",
              "      <td>0.287</td>\n",
              "      <td>49.4</td>\n",
              "    </tr>\n",
              "    <tr>\n",
              "      <th>4</th>\n",
              "      <td>CHW</td>\n",
              "      <td>2010</td>\n",
              "      <td>3.80</td>\n",
              "      <td>3.94</td>\n",
              "      <td>0.305</td>\n",
              "      <td>54.3</td>\n",
              "    </tr>\n",
              "  </tbody>\n",
              "</table>\n",
              "</div>"
            ],
            "text/plain": [
              "  Team  Season   FIP  xFIP  BABIP  Win %\n",
              "0  ATL    2010  3.65  3.65  0.290   55.4\n",
              "1  SDP    2010  3.66  3.67  0.286   55.6\n",
              "2  SFG    2010  3.74  3.94  0.282   58.2\n",
              "3  LAD    2010  3.76  3.87  0.287   49.4\n",
              "4  CHW    2010  3.80  3.94  0.305   54.3"
            ]
          },
          "metadata": {
            "tags": []
          },
          "execution_count": 102
        }
      ]
    },
    {
      "cell_type": "code",
      "metadata": {
        "colab": {
          "base_uri": "https://localhost:8080/",
          "height": 225
        },
        "id": "Zf8EFkDJfItw",
        "outputId": "16dda779-582e-4c3a-9dcf-105aa3c80e45"
      },
      "source": [
        "# Creating a mask for the 2016 season\n",
        "season_omask = o_metrics['Season'] == 2016\n",
        "o_2016 = o_metrics[season_omask]\n",
        "o_2016 = o_2016.drop('Season', axis=1).set_index('Team')\n",
        "o_2016.head()"
      ],
      "execution_count": null,
      "outputs": [
        {
          "output_type": "execute_result",
          "data": {
            "text/html": [
              "<div>\n",
              "<style scoped>\n",
              "    .dataframe tbody tr th:only-of-type {\n",
              "        vertical-align: middle;\n",
              "    }\n",
              "\n",
              "    .dataframe tbody tr th {\n",
              "        vertical-align: top;\n",
              "    }\n",
              "\n",
              "    .dataframe thead th {\n",
              "        text-align: right;\n",
              "    }\n",
              "</style>\n",
              "<table border=\"1\" class=\"dataframe\">\n",
              "  <thead>\n",
              "    <tr style=\"text-align: right;\">\n",
              "      <th></th>\n",
              "      <th>wOBA</th>\n",
              "      <th>wRC+</th>\n",
              "      <th>BABIP</th>\n",
              "      <th>Win %</th>\n",
              "    </tr>\n",
              "    <tr>\n",
              "      <th>Team</th>\n",
              "      <th></th>\n",
              "      <th></th>\n",
              "      <th></th>\n",
              "      <th></th>\n",
              "    </tr>\n",
              "  </thead>\n",
              "  <tbody>\n",
              "    <tr>\n",
              "      <th>BOS</th>\n",
              "      <td>0.346</td>\n",
              "      <td>113.0</td>\n",
              "      <td>0.320</td>\n",
              "      <td>56.4</td>\n",
              "    </tr>\n",
              "    <tr>\n",
              "      <th>COL</th>\n",
              "      <td>0.339</td>\n",
              "      <td>94.0</td>\n",
              "      <td>0.326</td>\n",
              "      <td>46.3</td>\n",
              "    </tr>\n",
              "    <tr>\n",
              "      <th>CHC</th>\n",
              "      <td>0.333</td>\n",
              "      <td>106.0</td>\n",
              "      <td>0.302</td>\n",
              "      <td>64.0</td>\n",
              "    </tr>\n",
              "    <tr>\n",
              "      <th>DET</th>\n",
              "      <td>0.330</td>\n",
              "      <td>106.0</td>\n",
              "      <td>0.312</td>\n",
              "      <td>53.4</td>\n",
              "    </tr>\n",
              "    <tr>\n",
              "      <th>STL</th>\n",
              "      <td>0.329</td>\n",
              "      <td>105.0</td>\n",
              "      <td>0.294</td>\n",
              "      <td>53.1</td>\n",
              "    </tr>\n",
              "  </tbody>\n",
              "</table>\n",
              "</div>"
            ],
            "text/plain": [
              "       wOBA   wRC+  BABIP  Win %\n",
              "Team                            \n",
              "BOS   0.346  113.0  0.320   56.4\n",
              "COL   0.339   94.0  0.326   46.3\n",
              "CHC   0.333  106.0  0.302   64.0\n",
              "DET   0.330  106.0  0.312   53.4\n",
              "STL   0.329  105.0  0.294   53.1"
            ]
          },
          "metadata": {
            "tags": []
          },
          "execution_count": 103
        }
      ]
    },
    {
      "cell_type": "code",
      "metadata": {
        "colab": {
          "base_uri": "https://localhost:8080/",
          "height": 225
        },
        "id": "hgsCF77UfORD",
        "outputId": "c1039b46-5836-4129-f6dd-baf576451937"
      },
      "source": [
        "season_dmask = d_metrics['Season'] == 2016\n",
        "d_2016 = d_metrics[season_omask]\n",
        "d_2016 = d_2016.drop('Season', axis=1).set_index('Team')\n",
        "d_2016.head()"
      ],
      "execution_count": null,
      "outputs": [
        {
          "output_type": "execute_result",
          "data": {
            "text/html": [
              "<div>\n",
              "<style scoped>\n",
              "    .dataframe tbody tr th:only-of-type {\n",
              "        vertical-align: middle;\n",
              "    }\n",
              "\n",
              "    .dataframe tbody tr th {\n",
              "        vertical-align: top;\n",
              "    }\n",
              "\n",
              "    .dataframe thead th {\n",
              "        text-align: right;\n",
              "    }\n",
              "</style>\n",
              "<table border=\"1\" class=\"dataframe\">\n",
              "  <thead>\n",
              "    <tr style=\"text-align: right;\">\n",
              "      <th></th>\n",
              "      <th>FIP</th>\n",
              "      <th>xFIP</th>\n",
              "      <th>BABIP</th>\n",
              "      <th>Win %</th>\n",
              "    </tr>\n",
              "    <tr>\n",
              "      <th>Team</th>\n",
              "      <th></th>\n",
              "      <th></th>\n",
              "      <th></th>\n",
              "      <th></th>\n",
              "    </tr>\n",
              "  </thead>\n",
              "  <tbody>\n",
              "    <tr>\n",
              "      <th>NYM</th>\n",
              "      <td>3.57</td>\n",
              "      <td>3.78</td>\n",
              "      <td>0.308</td>\n",
              "      <td>53.4</td>\n",
              "    </tr>\n",
              "    <tr>\n",
              "      <th>WSN</th>\n",
              "      <td>3.58</td>\n",
              "      <td>3.82</td>\n",
              "      <td>0.288</td>\n",
              "      <td>58.1</td>\n",
              "    </tr>\n",
              "    <tr>\n",
              "      <th>LAD</th>\n",
              "      <td>3.61</td>\n",
              "      <td>3.75</td>\n",
              "      <td>0.288</td>\n",
              "      <td>55.5</td>\n",
              "    </tr>\n",
              "    <tr>\n",
              "      <th>SFG</th>\n",
              "      <td>3.76</td>\n",
              "      <td>4.01</td>\n",
              "      <td>0.287</td>\n",
              "      <td>53.3</td>\n",
              "    </tr>\n",
              "    <tr>\n",
              "      <th>CHC</th>\n",
              "      <td>3.77</td>\n",
              "      <td>3.74</td>\n",
              "      <td>0.255</td>\n",
              "      <td>64.0</td>\n",
              "    </tr>\n",
              "  </tbody>\n",
              "</table>\n",
              "</div>"
            ],
            "text/plain": [
              "       FIP  xFIP  BABIP  Win %\n",
              "Team                          \n",
              "NYM   3.57  3.78  0.308   53.4\n",
              "WSN   3.58  3.82  0.288   58.1\n",
              "LAD   3.61  3.75  0.288   55.5\n",
              "SFG   3.76  4.01  0.287   53.3\n",
              "CHC   3.77  3.74  0.255   64.0"
            ]
          },
          "metadata": {
            "tags": []
          },
          "execution_count": 104
        }
      ]
    },
    {
      "cell_type": "code",
      "metadata": {
        "colab": {
          "base_uri": "https://localhost:8080/",
          "height": 620
        },
        "id": "wf1xBbnGFxvh",
        "outputId": "82340ef8-3042-4f3b-ba54-e822d04fe1c3"
      },
      "source": [
        "fig3, ax = plt.subplots(1, 1)\n",
        "ax.hist(d_metrics['BABIP'], label = 'BABIP')\n",
        "ax.set_xlabel('BABIP')\n",
        "ax.set_ylabel('Occurances')\n",
        "fig3.show()"
      ],
      "execution_count": null,
      "outputs": [
        {
          "output_type": "display_data",
          "data": {
            "image/png": "[encoded data removed]",
            "text/plain": [
              "<Figure size 864x720 with 1 Axes>"
            ]
          },
          "metadata": {
            "tags": []
          }
        }
      ]
    },
    {
      "cell_type": "code",
      "metadata": {
        "colab": {
          "base_uri": "https://localhost:8080/"
        },
        "id": "PbRNgJjEF8mq",
        "outputId": "fe634383-4d1a-41b0-83d3-2945fb092596"
      },
      "source": [
        "min_babip = d_metrics['BABIP'].min()\n",
        "print(\"The lowest BABIP allowed in a given season during the 2010's was {}\".format(min_babip))"
      ],
      "execution_count": null,
      "outputs": [
        {
          "output_type": "stream",
          "text": [
            "The lowest BABIP allowed in a given season during the 2010's was 0.255\n"
          ],
          "name": "stdout"
        }
      ]
    },
    {
      "cell_type": "markdown",
      "metadata": {
        "id": "dYrmlcAcjjlf"
      },
      "source": [
        "Figure 3 may be the best illustration of just how insane the Cubs defensive BABIP was in 2016. The histogram shown contains every team's BABIP allowed in the league for every season of the 2010's (including the Cubs' other seasons) contained in bins (300 entries total). ***ALL*** the way to the left is the 2016 Chicago Cubs, with the best allowed BABIP of the *decade*. That number is practically off of the distribution curve entirely, in another category of impressive altogether. What this means is that the 2016 Cubs defense wasn't just good/lucky, they were historically, ***unsustainably*** so. This is reinforced by the return to the norm BABIP allowed they had the following season."
      ]
    },
    {
      "cell_type": "code",
      "metadata": {
        "colab": {
          "base_uri": "https://localhost:8080/",
          "height": 620
        },
        "id": "fRGHSysVKvPM",
        "outputId": "00c8b929-e1f7-4258-8377-11b91c1cd811"
      },
      "source": [
        "fig4, ax = plt.subplots(1, 1)\n",
        "ax.hist(o_metrics['wRC+'], label = 'wRC+')\n",
        "ax.set_xlabel('wRC+')\n",
        "ax.set_ylabel('Occurances')\n",
        "fig4.show()"
      ],
      "execution_count": null,
      "outputs": [
        {
          "output_type": "display_data",
          "data": {
            "image/png": "[encoded data removed]",
            "text/plain": [
              "<Figure size 864x720 with 1 Axes>"
            ]
          },
          "metadata": {
            "tags": []
          }
        }
      ]
    },
    {
      "cell_type": "code",
      "metadata": {
        "colab": {
          "base_uri": "https://localhost:8080/"
        },
        "id": "3PKxdh03LVMj",
        "outputId": "a51332ee-76e1-45fa-833e-0e1e62a1597a"
      },
      "source": [
        "perc_dec = o_metrics['wRC+'].quantile(.85)\n",
        "print(\"The 85th percentile for wRC+ in the decade was {}\".format(perc_dec))\n",
        "perc_season = o_2016['wRC+'].quantile(.90)\n",
        "print(\"The 90th percentile for wRC+ in 2016 was {}\".format(perc_season))"
      ],
      "execution_count": null,
      "outputs": [
        {
          "output_type": "stream",
          "text": [
            "The 85th percentile for wRC+ in the decade was 106.0\n",
            "The 90th percentile for wRC+ in 2016 was 106.0\n"
          ],
          "name": "stdout"
        }
      ]
    },
    {
      "cell_type": "markdown",
      "metadata": {
        "id": "YtTVR-ztn-x9"
      },
      "source": [
        "The Cubs offense was by no means carried by an incredibly lucky/skilled defense, however. Their wRC+ of 106 that season ranked in the 90th percentile of all offensive performances that season, and in the 85th percentile of all offensive performances that decade, which is quite good and just as likely helped carry the team to the World Series. Nevertheless, as the next section will show, that offensive performance wouldn't be enough to overcome the season performances by other teams that came after it."
      ]
    },
    {
      "cell_type": "markdown",
      "metadata": {
        "id": "gNt4e6CRJLS6"
      },
      "source": [
        "##Other Successful Seasons##\n",
        "\n",
        "To explore how good the Cubs actually were, their statistics from 2016 will be compared to some of the best team season performances in the following years. The teams looked at will be:\n",
        "\n",
        "\n",
        "\n",
        "1.   The 2018 Red Sox (One of the best seasons in the MLB, won World Series)\n",
        "2.   The 2019 Dodgers (Incredibly good team, beaten in a 5 game series by the 2019 Nationals)\n",
        "3.   The 2019 New York Yankees (Another incredibly good team from that season)\n",
        "4.   The 2019 Nationals (One of the most incredible underdog stories in baseball history, do yourself a favor if you don't know about this story and look it up, it's amazing)\n",
        "\n",
        "\n",
        "\n",
        "\n",
        "\n"
      ]
    },
    {
      "cell_type": "markdown",
      "metadata": {
        "id": "RVAShXjnpHVq"
      },
      "source": [
        "###Organizing Data###\n",
        "\n",
        "The following code isolates the statistics for the given teams by masking for those season & team performances and returning them from the defensive and offensive metrics for the decade."
      ]
    },
    {
      "cell_type": "code",
      "metadata": {
        "id": "phULiEr_Zycx"
      },
      "source": [
        "teams_omask = (o_metrics['Team'] == 'NYY') & (o_metrics['Season'] == 2019) | (\n",
        "    (o_metrics['Team'] == 'BOS') & (o_metrics['Season'] == 2018)) | (\n",
        "        (o_metrics['Team'] == 'LAD') & (o_metrics['Season'] == 2019)) | (\n",
        "            (o_metrics['Team'] == 'CHC') & (o_metrics['Season'] == 2016)) | (\n",
        "                (o_metrics['Team'] == 'WSN') & (o_metrics['Season'] == 2019))\n",
        "team_ocomp = o_metrics[teams_omask].set_index(['Team', 'Season'])\n",
        "team_ocomp.index = ['{}_{}'.format(i, j) for i, j in team_ocomp.index]"
      ],
      "execution_count": null,
      "outputs": []
    },
    {
      "cell_type": "code",
      "metadata": {
        "id": "N7lqNgYRLD3o"
      },
      "source": [
        "teams_dmask = (d_metrics['Team'] == 'NYY') & (d_metrics['Season'] == 2019) | (\n",
        "    (d_metrics['Team'] == 'BOS') & (d_metrics['Season'] == 2018)) | (\n",
        "        (d_metrics['Team'] == 'LAD') & (d_metrics['Season'] == 2019)) | (\n",
        "            (d_metrics['Team'] == 'CHC') & (d_metrics['Season'] == 2016)) | (\n",
        "                (d_metrics['Team'] == 'WSN') & (d_metrics['Season'] == 2019))\n",
        "            \n",
        "team_dcomp = d_metrics[teams_dmask].set_index(['Team', 'Season'])\n",
        "team_dcomp.index = ['{}_{}'.format(i, j) for i, j in team_dcomp.index]"
      ],
      "execution_count": null,
      "outputs": []
    },
    {
      "cell_type": "markdown",
      "metadata": {
        "id": "RwOPMZMPpU7K"
      },
      "source": [
        "###FIP Comparison###\n",
        "\n",
        "Below shows a comparison of FIPs between the 2016 Cubs and the other teams."
      ]
    },
    {
      "cell_type": "code",
      "metadata": {
        "colab": {
          "base_uri": "https://localhost:8080/",
          "height": 604
        },
        "id": "RP35TQHzvA6g",
        "outputId": "87c20557-5e6e-422e-9761-86aa27c25e44"
      },
      "source": [
        "fip = team_dcomp['FIP'].sort_values(ascending = False)\n",
        "fig4, ax = plt.subplots(1, 1)\n",
        "ax.bar(fip.index, fip,width = .5, label = 'FIP')\n",
        "ax.set_ylim(3, 5)\n",
        "ax.legend()\n",
        "fig4.show()"
      ],
      "execution_count": null,
      "outputs": [
        {
          "output_type": "display_data",
          "data": {
            "image/png": "[encoded data removed]",
            "text/plain": [
              "<Figure size 864x720 with 1 Axes>"
            ]
          },
          "metadata": {
            "tags": []
          }
        }
      ]
    },
    {
      "cell_type": "markdown",
      "metadata": {
        "id": "oNSa4A0up2DF"
      },
      "source": [
        "By the FIP alone, the 2016 Cubs were about on par with two of the best teams of the decade, suggesting that their pitching performance was fairly good."
      ]
    },
    {
      "cell_type": "markdown",
      "metadata": {
        "id": "cWN4QD03pfFI"
      },
      "source": [
        "###wRC+ Comparison###\n",
        "\n",
        "Below shows a comparison of wRC+ between the 2016 Cubs and the other teams."
      ]
    },
    {
      "cell_type": "code",
      "metadata": {
        "colab": {
          "base_uri": "https://localhost:8080/",
          "height": 604
        },
        "id": "jWtxE360yZ4V",
        "outputId": "f8be14fb-fcba-4b30-e696-f1f1bb23b64e"
      },
      "source": [
        "wrc = team_ocomp['wRC+'].sort_values()\n",
        "fig5, ax = plt.subplots(1, 1)\n",
        "ax.bar(wrc.index, wrc, width = .5, label = 'wRC+')\n",
        "ax.set_ylim(80, 120)\n",
        "ax.legend()\n",
        "fig5.show()"
      ],
      "execution_count": null,
      "outputs": [
        {
          "output_type": "display_data",
          "data": {
            "image/png": "[encoded data removed]",
            "text/plain": [
              "<Figure size 864x720 with 1 Axes>"
            ]
          },
          "metadata": {
            "tags": []
          }
        }
      ]
    },
    {
      "cell_type": "markdown",
      "metadata": {
        "id": "vvIJ9uGpqHMg"
      },
      "source": [
        "The wRC+ comparison shows that the 2016 Cubs failed to meet the offensive firepower of the better teams that followed it, even at the peak of its offensive capabilities. This is important because the Cubs offense famously flailed in the following seasons, consistently underperforming their expectations while better teams thrived."
      ]
    },
    {
      "cell_type": "markdown",
      "metadata": {
        "id": "8kNxGnkWpibQ"
      },
      "source": [
        "###BABIP Comparison###\n",
        "\n",
        "Below shows a comparison of BABIPs between the 2016 Cubs and the other teams."
      ]
    },
    {
      "cell_type": "code",
      "metadata": {
        "colab": {
          "base_uri": "https://localhost:8080/",
          "height": 598
        },
        "id": "A-lfXPp4VL6Z",
        "outputId": "0b3db706-cfa2-46a5-f8bd-0d59a2bf288c"
      },
      "source": [
        "babip = team_dcomp['BABIP'].sort_values()\n",
        "fig6, ax = plt.subplots(1, 1)\n",
        "ax.bar(babip.index, babip, width = .5, label = 'BABIP allowed')\n",
        "ax.set_ylim(.225, .35)\n",
        "ax.legend()\n",
        "fig6.show()"
      ],
      "execution_count": null,
      "outputs": [
        {
          "output_type": "display_data",
          "data": {
            "image/png": "[encoded data removed]",
            "text/plain": [
              "<Figure size 864x720 with 1 Axes>"
            ]
          },
          "metadata": {
            "tags": []
          }
        }
      ]
    },
    {
      "cell_type": "markdown",
      "metadata": {
        "id": "qfDBCMGkqbqO"
      },
      "source": [
        "As expected, the allowed BABIP was unparalleled even by the best teams of the decade, suggesting an incredible amount of luck was involved in the Cubs success. The regression back to their previous BABIP certainly hurt them in the following seasons."
      ]
    },
    {
      "cell_type": "markdown",
      "metadata": {
        "id": "6fewKoh-q9OA"
      },
      "source": [
        "##Conclusion##\n",
        "\n",
        "Ultimately, if there is one takeaway from this study, it's that baseball has a lot of luck involved. With all of the data at our disposal, it still remains almost impossible to predict what will happen next. The 2016 Cubs embody that idea, and while they were a good team, they were bolstered by some very good fortune and a less competitive league than the seasons that followed. What is disappointing is that the hype surrounding the team was far from unwarranted; they were still incredibly young, their pitching staff was performing well, and their offense showed what seemed to be a glimpse of what it was truly capable of doing. Their failure to improve, combined with a lack of the luck that pushed them to their championship and an increased level of competition, ultimately led to their decline. Even at their peak performance, the 2016 Cubs likely would have had a much harder time beating any of the other incredible teams that came in the following seasons. \n",
        "\n",
        "As if to reinforce how important luck is, all one needs to do is look at the story of the 2019 Nationals. At one point in July of that year, the Nationals were about to be trade deadline sellers preparing to give up on the season, and instead went on to defeat two of the greatest teams ever assembled (one of which was found to be cheating soon after losing to the Nationals) and win the World Series. They did this being *worse* than the 2016 Cubs in practically every metric (including BABIP allowed), yet managed to pull off one of the greatest underdog stories in sports history.\n",
        "\n",
        "Unlike the 2019 Nationals, however, who most if not all widely acknowledge were lucky as opposed to being consistently good, the 2016 Cubs were heavy favorites to win the World Series based on an incredible team record that season. Simply put, based on the numbers, the Cubs were a good team, but they got a lot more credit for being skilled instead of getting lucky than they deserved. It showed in their decline in performance and worse playoff stretches for the rest of the decade. The Cubs were a good team bolstered by good luck, but a failure to improve combined with better competition and worse luck made the promised dynasty a near impossibility."
      ]
    },
    {
      "cell_type": "markdown",
      "metadata": {
        "id": "OYXHc0uuQT41"
      },
      "source": [
        "##Sources##\n",
        "\n",
        "1. fangraphs.com\n",
        "2. teamrankings.com\n",
        "\n"
      ]
    }
  ]
}